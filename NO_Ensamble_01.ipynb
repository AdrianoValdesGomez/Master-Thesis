{
 "cells": [
  {
   "cell_type": "markdown",
   "metadata": {},
   "source": [
    "# Brownian motion on the Sphere"
   ]
  },
  {
   "cell_type": "markdown",
   "metadata": {},
   "source": [
    "## Introduction"
   ]
  },
  {
   "cell_type": "markdown",
   "metadata": {},
   "source": [
    "En este notebook vamos a simular la evolución de una o varias; un ensamble, partículas realizando movimiento browniano sobre la superficie de la esfera.\n",
    "\n",
    "Esencialmente calcularemos cuatro cosas para compararlas con una solución analítica para este caso sencillo\n",
    "\n",
    "    - El promedio de la coordenada polar,\n",
    "    - El promedio de la coordenada azimuthal,\n",
    "    - La varianza de la coordenada polar,\n",
    "    - La varianza de la coordenada azimuthal,\n",
    "    - El histograma como función del tiempo,\n",
    "    - Graficaremos la evolución temporal de la solución analítica.\n",
    "    - Tiempo promedio de escape de una región $\\Omega$"
   ]
  },
  {
   "cell_type": "markdown",
   "metadata": {},
   "source": [
    "### Mínimo de librerías necesarias"
   ]
  },
  {
   "cell_type": "code",
   "execution_count": 2,
   "metadata": {
    "collapsed": true
   },
   "outputs": [],
   "source": [
    "from matplotlib import pyplot as plt\n",
    "import numpy as np\n",
    "%matplotlib inline"
   ]
  },
  {
   "cell_type": "markdown",
   "metadata": {},
   "source": [
    "### Código"
   ]
  },
  {
   "cell_type": "code",
   "execution_count": 1,
   "metadata": {
    "collapsed": true
   },
   "outputs": [],
   "source": [
    "# %load Brownian_Sphere_code_02.py\n",
    "\n",
    "import numpy as np\n",
    "from matplotlib import pyplot as plt\n",
    "\n",
    "#Funcion que toma un vector y regresa otro ortogonal a este.\n",
    "def orto(x):\n",
    "    if np.dot(x,x) == 0:\n",
    "        return 'Pendejo: ese es el vector cero!'\n",
    "    else:\n",
    "        if 0 not in x:\n",
    "            v1 = 1\n",
    "            v2 = -(x[0]/x[1])\n",
    "            v3 = 0\n",
    "            #return np.array([v1,v2,v3])\n",
    "        else:\n",
    "            if x[0] == 0:\n",
    "                if x[1] == 0:\n",
    "                    v1 = 1\n",
    "                    v2 = 0\n",
    "                    v3 = 0\n",
    "                else:\n",
    "                    v1 = 0\n",
    "                    v2 = 0\n",
    "                    v3 = 1\n",
    "            elif x[1] == 0:\n",
    "                v1 = 0\n",
    "                v2 = 1\n",
    "                v3 = 0\n",
    "            else:\n",
    "                v1 = 0\n",
    "                v2 = 0\n",
    "                v3 = 1\n",
    "        return np.array([v1,v2,v3])\n",
    "    \n",
    "#Funcion que regresa dos vectores; numpy arrays, de 3D ortogonales al vector de imput x.\n",
    "def base_ort_nor(x):\n",
    "    y = orto(x)\n",
    "    v1 = y/np.linalg.norm(y)\n",
    "    z = np.cross(x,v1)\n",
    "    v2 = z/np.linalg.norm(z)\n",
    "    return v1, v2\n",
    "\n",
    "\n",
    "#Esta funcion genera un vector con distrubucion uniforme en las direcciones sobre un plano tangente a la esfera de radio R.\n",
    "def vector_des(v1,v2):\n",
    "    na = 2*np.pi*np.random.rand()\n",
    "    vn = v1*np.cos(na) + v2*np.sin(na)\n",
    "    return vn/np.linalg.norm(vn)\n",
    "\n",
    "R = 1\n",
    "\n",
    "#Normalizamos al vector de desplazamiento para que intersecte al vector de la nueva posicion de acuerdo con que el\n",
    "#desplazamiento (s) sobre la esfera, sobre este arco de circulo maximo, sea el determinado por el movimiento browniano particular.\n",
    "def vector_q(x,s):\n",
    "    q = (R)*np.tan(s/(R))\n",
    "    return q*x\n",
    "\n",
    "#Dados todos los datos anteriores, esta funcion actualiza la posición de la particula.\n",
    "def nuevo_r(r, vector_q):\n",
    "    y = r + vector_q\n",
    "    y = y/np.linalg.norm(y)\n",
    "    return (R)*y\n",
    "\n",
    "#Esta funcion ensambla todo lo anterior: como imput necesita una pocision inicial y un arco de desplazamiento\n",
    "#Como output da un vector de posicion nuevo dada un tipo de desplazamiento.\n",
    "def actualiza(r,s):\n",
    "    v1, v2 = base_ort_nor(r)\n",
    "    pre_q = vector_des(v1,v2)\n",
    "    q = vector_q(pre_q, s)\n",
    "    return nuevo_r(r, q)\n",
    "\n",
    "#Esta funcion cuando es llamada grafia la posicion de la particula browniana\n",
    "#sobre la superficie de una esfera sobre la que se esta difundiendo.\n",
    "def plot_particle(r,i):\n",
    "    from mpl_toolkits.mplot3d import axes3d\n",
    "    from mpl_toolkits.mplot3d import Axes3D\n",
    "    from matplotlib import cm\n",
    "\n",
    "    #import matplotlib.pyplot as plt\n",
    "    #import numpy as np\n",
    "    from itertools import product, combinations\n",
    "    fig = plt.figure(figsize=(20,10))\n",
    "    ax = fig.gca(projection='3d')\n",
    "    ax.set_aspect(\"equal\")\n",
    "\n",
    "    #draw a point\n",
    "    ax.scatter([r[0]],[r[1]],[r[2]],color=\"b\",s=100)\n",
    "    \n",
    "    \n",
    "    \n",
    "    \n",
    "\n",
    "    #draw sphere\n",
    "    u, v = np.mgrid[0:2*np.pi:50j, (np.pi/7):np.pi:50j]\n",
    "    x=R*np.cos(u)*np.sin(v)\n",
    "    y=R*np.sin(u)*np.sin(v)\n",
    "    z=R*np.cos(v)\n",
    "    #ax.plot_surface(x, y, z, color=\"r\", alpha = 0.15)\n",
    "    ax.plot_surface(x, y, z, cmap=cm.YlGnBu_r,rstride=1, cstride=1, alpha = 0.55, linewidth = 0.15)\n",
    "\n",
    "\n",
    "\n",
    "    #draw patch\n",
    "    u, v = np.mgrid[0:2*np.pi:50j, 0:(np.pi/7):50j]\n",
    "    x=R*np.cos(u)*np.sin(v)\n",
    "    y=R*np.sin(u)*np.sin(v)\n",
    "    z=R*np.cos(v)\n",
    "    ax.plot_surface(x, y, z, color=\"r\", alpha = 0.25)\n",
    "    \n",
    "\n",
    "\n",
    "    ax.view_init(80, 30)\n",
    "    #fig.savefig('BS_Rand_01.{}.png'.format(i))\n",
    "    \n",
    "    plt.show()\n",
    "    \n",
    "\n",
    "    \n",
    "#Esta funcion Genera n posiciones aleatorias sobre la superficie de la esfera de radio R.\n",
    "#El proposito de tener esta funcion es el de generar de manera automatizada\n",
    "#Una condicion inicial con distribucion uniforme sobre la esfera para varaias particulas Brownianas.\n",
    "def P_INS(n,R):\n",
    "    l = []\n",
    "    for i in range(n):\n",
    "        a1 = 2*np.pi*np.random.rand()\n",
    "        a2 = np.pi*np.random.rand()\n",
    "        l.append(np.array([R*np.sin(a2)*np.cos(a1),R*np.sin(a2)*np.sin(a1),R*np.cos(a2)]))\n",
    "    return l\n",
    "\n",
    "#Esta funcion cuando es llamada grafia la posicion de las partoculas brownianas.\n",
    "#sobre la superficie de una esfera sobre la que se esta difundiendo.\n",
    "def plot_particles(lista, vpolar, vazim, numero):\n",
    "    from mpl_toolkits.mplot3d import axes3d\n",
    "    from mpl_toolkits.mplot3d import Axes3D\n",
    "    from matplotlib import cm\n",
    "\n",
    "    #import matplotlib.pyplot as plt\n",
    "    #import numpy as np\n",
    "    from itertools import product, combinations\n",
    "    fig = plt.figure(figsize=(20,10))\n",
    "    ax = fig.gca(projection='3d')\n",
    "    ax.set_aspect(\"equal\")\n",
    "\n",
    "    \n",
    "\n",
    "\n",
    "\n",
    "    #draw sphere\n",
    "    R = 1\n",
    "    u, v = np.mgrid[0:2*np.pi:50j, 0:np.pi:50j]\n",
    "    x=R*np.cos(u)*np.sin(v)\n",
    "    y=R*np.sin(u)*np.sin(v)\n",
    "    z=R*np.cos(v)\n",
    "    #ax.plot_surface(x, y, z, color=\"r\", alpha = 0.15)\n",
    "\n",
    "    ax.plot_surface(x, y, z, cmap=cm.YlGnBu_r,rstride=1, cstride=1, alpha = 0.55, linewidth = 0.15)\n",
    "    ax.view_init(vpolar, vazim)\n",
    "    #draw patch\n",
    "    #u, v = np.mgrid[0:2*np.pi:50j, 0:(np.pi/7):50j]\n",
    "    #x=R*np.cos(u)*np.sin(v)\n",
    "    #y=R*np.sin(u)*np.sin(v)\n",
    "    #z=R*np.cos(v)\n",
    "    #ax.plot_surface(x, y, z, color=\"r\", alpha = 0.25)    \n",
    "    \n",
    "    #draw points\n",
    "    for p in lista:\n",
    "        ax.scatter([p[0]],[p[1]],[p[2]],color=\"b\",s=150)\n",
    "    \n",
    "    fig.savefig('BS_Obs_01.{}.png'.format(nombre(numero)))\n",
    "    #ax.view_init(80, 30)\n",
    "    plt.show()\n",
    "    \n",
    "#Esta función actualiza la posicion de todos los elementos de una lista; partícula brownianas.\n",
    "def act_n(lista,s):\n",
    "    l = []\n",
    "    for v in lista:\n",
    "        l.append(actualiza(v,s))\n",
    "    return l\n",
    "\n",
    "#Esta funcion simula la evolucion de n particulas brownianas difundiendose sobre la superficie de una esfera.\n",
    "#Grafica cada paso o instantanea del sistema completo.\n",
    "def sim_n_pb(lista, m):\n",
    "    plot_particles(lista)\n",
    "    sigma = lista\n",
    "    for i in range(m):\n",
    "        eta = act_n(sigma)\n",
    "        plot_particles(eta)\n",
    "        sigma = eta\n",
    "        \n",
    "#Funcion que pone n particulas en el polo norte de una esfera\n",
    "def polo_n(n, R):\n",
    "    l = []\n",
    "    for i in range(n):\n",
    "        l.append(np.array([0,0,R]))\n",
    "    return l\n",
    "\n",
    "\n",
    "#Operador de Rotación\n",
    "\n",
    "\n",
    "def rot_theta(r, theta, u):\n",
    "    x = np.array([np.cos(theta) + (u[0]*u[0])*(1 - np.cos(theta)), u[0]*u[1]*(1 - np.cos(theta)) - u[2]*np.sin(theta), u[0]*u[2]*(1 - np.cos(theta)) + u[1]*np.sin(theta)])\n",
    "    y = np.array([u[1]*u[0]*(1 - np.cos(theta)) + u[2]*np.sin(theta), np.cos(theta) + u[1]*u[1]*(1 - np.cos(theta)), u[1]*u[2]*(1 - np.cos(theta)) - u[0]*np.sin(theta)])\n",
    "    z = np.array([u[2]*u[0]*(1 - np.cos(theta)) - u[1]*np.sin(theta), u[2]*u[1]*(1 - np.cos(theta)) + u[0]*np.sin(theta), np.cos(theta) + u[2]*u[2]*(1 - np.cos(theta))])\n",
    "    R = np.array([x,y,z])\n",
    "    return np.dot(R, r)\n",
    "\n",
    "\n",
    "#Huella de la trayectoria\n",
    "#La siguiente funcion hace una particion de la trayectoria sobre s en n pedazos y regresa\n",
    "#una lista de los vectores de esas posiciones sobre la esfera.\n",
    "#Usa al operador de rotacion.\n",
    "\n",
    "def b_steps(ri,rf,n):\n",
    "    l = [ri]\n",
    "    r0 = ri\n",
    "    theta = np.arccos((np.dot(ri,rf))/((np.linalg.norm(ri))*(np.linalg.norm(rf))))\n",
    "    normal = np.cross(ri, rf)/ np.linalg.norm(np.cross(ri,rf))\n",
    "    for i in range(1,n + 1):\n",
    "        vi = rot_theta(r0, theta/n, normal)\n",
    "        l.append(vi)\n",
    "        r0 = vi\n",
    "    return l\n",
    "\n",
    "\n",
    "\n",
    "#Transformacion de coordenada de esfericas a cartesianas.\n",
    "\n",
    "\n",
    "def trans_s_c(r,theta, phi):\n",
    "    x = r*np.sin(theta)*np.cos(phi)\n",
    "    y = r*np.sin(theta)* np.sin(phi)\n",
    "    z = r*np.cos(theta)\n",
    "    return x, y, z\n",
    "\n",
    "\n",
    "#Transformacion de coordenadas de cartesianas a esfericas.\n",
    "\n",
    "def trans_c_s(x,y,z):\n",
    "    r = np.sqrt(x**2 + y**2 + z**2)\n",
    "    theta = np.arccos(z/r)\n",
    "    phi = np.arctan(y/z)\n",
    "    return r, theta, phi\n",
    "\n",
    "\n",
    "\n",
    "\n",
    "def r_uni(theta, phi):\n",
    "    x = np.sin(theta)*np.cos(phi)\n",
    "    y = np.cos(theta)*np.cos(phi)\n",
    "    z = np.cos(theta)\n",
    "    return np.array([x,y,z])\n",
    "def theta_uni(theta, phi):\n",
    "    x = np.cos(theta)*np.cos(phi)\n",
    "    y = np.cos(theta)*np.sin(phi)\n",
    "    z = -np.sin(theta)\n",
    "    return np.array([x,y,z])\n",
    "def phi_uni(theta, phi):\n",
    "    x = -np.sin(theta)\n",
    "    y = np.cos(phi)\n",
    "    z = 0\n",
    "    return np.array([x,y,z])\n",
    "\n",
    "\n",
    "\n",
    "def collision_update(lista_vect, r_omega, theta_omega):\n",
    "    for v in lista_vect:\n",
    "        #angulo = np.arccos(np.dot(v,r_omega)/(np.linalg.norm(v)*np.linalg.norm(r_omega)))\n",
    "        #print angulo, theta_omega\n",
    "        tamanho = (R**2)*np.cos(theta_omega)\n",
    "        if np.dot(v,r_omega) >= tamanho:\n",
    "            print 'Choco el mother fucker'\n",
    "            rp = v\n",
    "            np_prima = np.cross(np.cross(r_omega, rp), rp)\n",
    "            nor_p = np_prima/np.linalg.norm(np_prima)\n",
    "            up_prima = np.cross(np.cross(lista_vect[0], lista_vect[-1]), rp)\n",
    "            up = up_prima/np.linalg.norm(up_prima)\n",
    "            tp_prima = np.cross(rp, nor_p)\n",
    "            tp = tp_prima/np.linalg.norm(tp_prima)\n",
    "            x = (np.dot(up,tp))*tp - (np.dot(up, nor_p))*nor_p\n",
    "            v_rot_prima = np.cross(rp, x)\n",
    "            v_rot = v_rot_prima/np.linalg.norm(v_rot_prima)\n",
    "            ang_dif = np.arccos(np.dot(v,lista_vect[-1])/(np.linalg.norm(v)*np.linalg.norm(lista_vect[-1])))\n",
    "            posicion_final = rot_theta(rp, ang_dif, v_rot)\n",
    "            return v, posicion_final\n",
    "        else:\n",
    "            continue\n",
    "    print 'no choco el mother fucker'\n",
    "    return lista_vect[0], lista_vect[-1]\n",
    "def nombre(s):\n",
    "    diferencia = 4 - len(str(s))\n",
    "    ceros = '' \n",
    "    for i in range(diferencia):\n",
    "        ceros = ceros + '0'\n",
    "    variable = ceros + str(s)\n",
    "    return variable\n",
    "\n",
    "#Varianza para una distribucion bigaussiana; difusion en 2D\n",
    "def var(D, delta_t):\n",
    "    return 4*D*delta_t\n",
    "\n",
    "\n",
    "#Arco de circulo maximo con distribucion normal alrededor de cero y una varianza dada por\n",
    "\n",
    "def ese(D,delta_t):\n",
    "    return abs(np.random.normal(loc = 0., scale = np.sqrt(var(D,delta_t)),size = None))\n",
    "\n",
    "\n",
    "\n",
    "\n",
    "#Definimos las condiciones inciales\n",
    "\n",
    "# R es el radio de la esfera\n",
    "\n",
    "R=1\n",
    "def exit_time(R):\n",
    "    t0 = 0\n",
    "    x0 = np.array([0,0,R])\n",
    "    x = x0\n",
    "    t = t0\n",
    "    for i in range(550):\n",
    "        t = t + 25e-6\n",
    "        x = actualiza(x,ese())\n",
    "        #plot_particle(x,i)\n",
    "        theta_x = np.arccos(x[2]/R)\n",
    "        if theta_R < theta_x:\n",
    "            return  t\n",
    "        else:\n",
    "            continue\n",
    "    return 'no salio de la region'\n",
    "\n",
    "\n",
    "\n"
   ]
  },
  {
   "cell_type": "code",
   "execution_count": null,
   "metadata": {
    "collapsed": true
   },
   "outputs": [],
   "source": []
  },
  {
   "cell_type": "code",
   "execution_count": null,
   "metadata": {
    "collapsed": true
   },
   "outputs": [],
   "source": []
  },
  {
   "cell_type": "markdown",
   "metadata": {},
   "source": [
    "De manera rutinaria necesitaresmo crear carpetas donde guardar los `snapshots`de nuestras simulaciones."
   ]
  },
  {
   "cell_type": "code",
   "execution_count": 2,
   "metadata": {
    "collapsed": false
   },
   "outputs": [
    {
     "name": "stdout",
     "output_type": "stream",
     "text": [
      "/Users/adriano/Documents/Tesis_Maestria/Notebooks_ipy\r\n"
     ]
    }
   ],
   "source": [
    "!pwd"
   ]
  },
  {
   "cell_type": "code",
   "execution_count": 11,
   "metadata": {
    "collapsed": true
   },
   "outputs": [],
   "source": [
    "!mkdir Histograma_Thesis_theta_NO_02"
   ]
  },
  {
   "cell_type": "code",
   "execution_count": 12,
   "metadata": {
    "collapsed": false
   },
   "outputs": [
    {
     "name": "stdout",
     "output_type": "stream",
     "text": [
      "/Users/adriano/Documents/Tesis_Maestria/Notebooks_ipy/Histograma_Thesis_theta_NO_02\n"
     ]
    }
   ],
   "source": [
    "%cd /Users/adriano/Documents/Tesis_Maestria/Notebooks_ipy/Histograma_Thesis_theta_NO_02/"
   ]
  },
  {
   "cell_type": "code",
   "execution_count": 46,
   "metadata": {
    "collapsed": true
   },
   "outputs": [],
   "source": [
    "!mkdir Histograma_Theta_NO_04"
   ]
  },
  {
   "cell_type": "code",
   "execution_count": 47,
   "metadata": {
    "collapsed": false
   },
   "outputs": [
    {
     "name": "stdout",
     "output_type": "stream",
     "text": [
      "/Users/adriano/Documents/Tesis_Maestria/Notebooks_ipy/Histograma_Theta_NO_04\n"
     ]
    }
   ],
   "source": [
    "%cd Histograma_Theta_NO_04/"
   ]
  },
  {
   "cell_type": "code",
   "execution_count": 48,
   "metadata": {
    "collapsed": false
   },
   "outputs": [
    {
     "name": "stdout",
     "output_type": "stream",
     "text": [
      "/Users/adriano/Documents/Tesis_Maestria/Notebooks_ipy/Histograma_Theta_NO_04\r\n"
     ]
    }
   ],
   "source": [
    "!pwd"
   ]
  },
  {
   "cell_type": "code",
   "execution_count": 13,
   "metadata": {
    "collapsed": false
   },
   "outputs": [
    {
     "name": "stdout",
     "output_type": "stream",
     "text": [
      "/Users/adriano/Documents/Tesis_Maestria/Notebooks_ipy\n"
     ]
    }
   ],
   "source": [
    "%cd /Users/adriano/Documents/Tesis_Maestria/Notebooks_ipy/"
   ]
  },
  {
   "cell_type": "code",
   "execution_count": null,
   "metadata": {
    "collapsed": true
   },
   "outputs": [],
   "source": []
  },
  {
   "cell_type": "code",
   "execution_count": null,
   "metadata": {
    "collapsed": true
   },
   "outputs": [],
   "source": []
  },
  {
   "cell_type": "code",
   "execution_count": null,
   "metadata": {
    "collapsed": true
   },
   "outputs": [],
   "source": []
  },
  {
   "cell_type": "markdown",
   "metadata": {},
   "source": [
    "### Cálculo Numérico de $D$"
   ]
  },
  {
   "cell_type": "code",
   "execution_count": 14,
   "metadata": {
    "collapsed": false
   },
   "outputs": [
    {
     "name": "stdout",
     "output_type": "stream",
     "text": [
      "/Users/adriano/Documents/Tesis_Maestria/Notebooks_ipy/Histograma_Thesis_theta_NO_02\r\n"
     ]
    }
   ],
   "source": [
    "!pwd"
   ]
  },
  {
   "cell_type": "markdown",
   "metadata": {},
   "source": [
    "A continuación definimos los valores de el parámetros $D$ y de el tamaño del paso para los incrementos del tiempo."
   ]
  },
  {
   "cell_type": "code",
   "execution_count": 43,
   "metadata": {
    "collapsed": false
   },
   "outputs": [],
   "source": [
    "R = 1.\n",
    "D = 1.\n",
    "dt = 1e-3"
   ]
  },
  {
   "cell_type": "code",
   "execution_count": 65,
   "metadata": {
    "collapsed": false
   },
   "outputs": [],
   "source": [
    "#R = 1\n",
    "#D = 1\n",
    "#dt = 1e-3*np.log(10)\n",
    "origen = polo_n(10000,R)\n",
    "promedio_theta_en_t = [0]\n",
    "promedio_phi_en_t = [0]\n",
    "promedio_cos_theta = [np.cos(0)]\n",
    "var_theta_en_t = [0]\n",
    "var_phi_en_t = [0]\n",
    "posicion_vec = origen\n",
    "t_final = 2500\n",
    "\n",
    "for i in range(t_final):\n",
    "    nuevos_vec = act_n(posicion_vec, ese(D,dt))\n",
    "    thetas = []\n",
    "\n",
    "    phis = []\n",
    "\n",
    "    for v in nuevos_vec:\n",
    "        theta = np.arccos(v[2]/R)\n",
    "        phi = np.arctan(v[1]/v[0])\n",
    "        thetas.append(theta)\n",
    "\n",
    "        phis.append(phi)\n",
    "\n",
    "    \n",
    "    #Aqui vamos a salvar una instantanea de cada uno de los histogramas\n",
    "    #de theta\n",
    "    #plt.hist(thetas, 50, color = 'g', alpha = 0.6, normed = \"true\")\n",
    "    #plt.xlabel(r\"$\\theta$\", fontsize = 15)\n",
    "    #plt.xlim(0,np.pi)\n",
    "    #plt.ylabel(r\"$n(\\theta)/10000$\", fontsize = 15)\n",
    "    #plt.ylim(0,1)\n",
    "    #plt.title(\"Paso = {}\".format(i), fontsize = 15)\n",
    "    #plt.savefig('Histograma_theta_{}'.format(nombre(i)), dpi = 600, bbox_inches = 'tight')\n",
    "    #plt.close()\n",
    "    mean_cos_theta = np.mean(np.cos(thetas))\n",
    "    mean_theta = np.mean(thetas)\n",
    "    mean_phi = np.mean(phis)\n",
    "\n",
    "    var_theta_en_t.append(np.var(thetas))\n",
    "    var_phi_en_t.append(np.var(phis))\n",
    "    promedio_theta_en_t.append(mean_theta)\n",
    "    promedio_phi_en_t.append(mean_phi)\n",
    "    posicion_vec = nuevos_vec\n",
    "    promedio_cos_theta.append(mean_cos_theta)"
   ]
  },
  {
   "cell_type": "code",
   "execution_count": null,
   "metadata": {
    "collapsed": true
   },
   "outputs": [],
   "source": []
  },
  {
   "cell_type": "code",
   "execution_count": null,
   "metadata": {
    "collapsed": true
   },
   "outputs": [],
   "source": []
  },
  {
   "cell_type": "code",
   "execution_count": null,
   "metadata": {
    "collapsed": true
   },
   "outputs": [],
   "source": []
  },
  {
   "cell_type": "code",
   "execution_count": 66,
   "metadata": {
    "collapsed": false
   },
   "outputs": [
    {
     "data": {
      "text/plain": [
       "<matplotlib.legend.Legend at 0x10b515790>"
      ]
     },
     "execution_count": 66,
     "metadata": {},
     "output_type": "execute_result"
    },
    {
     "data": {
      "image/png": "[encoded data removed]",
      "text/plain": [
       "<matplotlib.figure.Figure at 0x10ae58990>"
      ]
     },
     "metadata": {},
     "output_type": "display_data"
    }
   ],
   "source": [
    "npasos = t_final\n",
    "suma = 0\n",
    "tiempos = [0]\n",
    "impulso = dt\n",
    "for i in range(npasos):\n",
    "    suma += impulso\n",
    "    tiempos.append(suma)\n",
    "    \n",
    "    \n",
    "plt.rc('text', usetex=True)\n",
    "plt.plot(tiempos,promedio_theta_en_t)\n",
    "plt.plot(tiempos, np.pi/2*np.ones(len(tiempos)), 'r', label =\"$y = \\pi/2$\")\n",
    "plt.ylabel(r'$\\langle \\theta(t)\\rangle$', fontsize = 15)\n",
    "plt.xlabel('tiempo', fontsize = 12)\n",
    "plt.legend(loc=4); # Down right corner"
   ]
  },
  {
   "cell_type": "code",
   "execution_count": 67,
   "metadata": {
    "collapsed": false
   },
   "outputs": [
    {
     "data": {
      "text/plain": [
       "<matplotlib.legend.Legend at 0x10b05dd50>"
      ]
     },
     "execution_count": 67,
     "metadata": {},
     "output_type": "execute_result"
    },
    {
     "data": {
      "image/png": "[encoded data removed]",
      "text/plain": [
       "<matplotlib.figure.Figure at 0x10b266910>"
      ]
     },
     "metadata": {},
     "output_type": "display_data"
    }
   ],
   "source": [
    "plt.rc('text', usetex=True)\n",
    "plt.plot(tiempos,var_theta_en_t, alpha = .8, color = 'g')\n",
    "plt.plot(tiempos, 0.46358922651739204*np.ones(len(tiempos)), 'r', label =\"$y = 0.4636$\")\n",
    "plt.ylabel(r'$\\mbox{Var}[\\theta(t)]$', fontsize = 15)\n",
    "plt.xlabel('tiempo', fontsize = 12)\n",
    "plt.legend(loc=4); # down right corner"
   ]
  },
  {
   "cell_type": "code",
   "execution_count": 58,
   "metadata": {
    "collapsed": false
   },
   "outputs": [
    {
     "data": {
      "text/plain": [
       "0.67823299831252681"
      ]
     },
     "execution_count": 58,
     "metadata": {},
     "output_type": "execute_result"
    }
   ],
   "source": [
    "np.sqrt(.46)"
   ]
  },
  {
   "cell_type": "code",
   "execution_count": null,
   "metadata": {
    "collapsed": true
   },
   "outputs": [],
   "source": []
  },
  {
   "cell_type": "code",
   "execution_count": 28,
   "metadata": {
    "collapsed": false
   },
   "outputs": [
    {
     "data": {
      "text/plain": [
       "0.30236539516102218"
      ]
     },
     "execution_count": 28,
     "metadata": {},
     "output_type": "execute_result"
    }
   ],
   "source": [
    "np.mean(var_theta_en_t)"
   ]
  },
  {
   "cell_type": "code",
   "execution_count": null,
   "metadata": {
    "collapsed": true
   },
   "outputs": [],
   "source": []
  },
  {
   "cell_type": "code",
   "execution_count": 276,
   "metadata": {
    "collapsed": false
   },
   "outputs": [
    {
     "data": {
      "text/plain": [
       "0.4674011002723395"
      ]
     },
     "execution_count": 276,
     "metadata": {},
     "output_type": "execute_result"
    }
   ],
   "source": [
    "(np.pi**2)/4 -2"
   ]
  },
  {
   "cell_type": "code",
   "execution_count": null,
   "metadata": {
    "collapsed": true
   },
   "outputs": [],
   "source": []
  },
  {
   "cell_type": "code",
   "execution_count": null,
   "metadata": {
    "collapsed": true
   },
   "outputs": [],
   "source": []
  },
  {
   "cell_type": "code",
   "execution_count": 31,
   "metadata": {
    "collapsed": false
   },
   "outputs": [],
   "source": [
    "npasos = 10000\n",
    "suma = 0\n",
    "tiempos = [0]\n",
    "impulso = dt\n",
    "for i in range(npasos):\n",
    "    suma += impulso\n",
    "    tiempos.append(suma)"
   ]
  },
  {
   "cell_type": "code",
   "execution_count": 30,
   "metadata": {
    "collapsed": true
   },
   "outputs": [
    {
     "data": {
      "text/plain": [
       "[0,\n",
       " 0.0002302585092994046,\n",
       " 0.0004605170185988092,\n",
       " 0.00069077552789821378,\n",
       " 0.0009210340371976184,\n",
       " 0.0011512925464970229,\n",
       " 0.0013815510557964276,\n",
       " 0.0016118095650958322,\n",
       " 0.0018420680743952368,\n",
       " 0.0020723265836946414,\n",
       " 0.0023025850929940458,\n",
       " 0.0025328436022934503,\n",
       " 0.0027631021115928547,\n",
       " 0.0029933606208922591,\n",
       " 0.0032236191301916635,\n",
       " 0.0034538776394910679,\n",
       " 0.0036841361487904723,\n",
       " 0.0039143946580898767,\n",
       " 0.0041446531673892811,\n",
       " 0.0043749116766886855,\n",
       " 0.00460517018598809,\n",
       " 0.0048354286952874944,\n",
       " 0.0050656872045868988,\n",
       " 0.0052959457138863032,\n",
       " 0.0055262042231857076,\n",
       " 0.005756462732485112,\n",
       " 0.0059867212417845164,\n",
       " 0.0062169797510839208,\n",
       " 0.0064472382603833252,\n",
       " 0.0066774967696827297,\n",
       " 0.0069077552789821341,\n",
       " 0.0071380137882815385,\n",
       " 0.0073682722975809429,\n",
       " 0.0075985308068803473,\n",
       " 0.0078287893161797517,\n",
       " 0.008059047825479157,\n",
       " 0.0082893063347785623,\n",
       " 0.0085195648440779675,\n",
       " 0.0087498233533773728,\n",
       " 0.0089800818626767781,\n",
       " 0.0092103403719761834,\n",
       " 0.0094405988812755887,\n",
       " 0.0096708573905749939,\n",
       " 0.0099011158998743992,\n",
       " 0.010131374409173804,\n",
       " 0.01036163291847321,\n",
       " 0.010591891427772615,\n",
       " 0.01082214993707202,\n",
       " 0.011052408446371426,\n",
       " 0.011282666955670831,\n",
       " 0.011512925464970236,\n",
       " 0.011743183974269641,\n",
       " 0.011973442483569047,\n",
       " 0.012203700992868452,\n",
       " 0.012433959502167857,\n",
       " 0.012664218011467263,\n",
       " 0.012894476520766668,\n",
       " 0.013124735030066073,\n",
       " 0.013354993539365478,\n",
       " 0.013585252048664884,\n",
       " 0.013815510557964289,\n",
       " 0.014045769067263694,\n",
       " 0.0142760275765631,\n",
       " 0.014506286085862505,\n",
       " 0.01473654459516191,\n",
       " 0.014966803104461315,\n",
       " 0.015197061613760721,\n",
       " 0.015427320123060126,\n",
       " 0.015657578632359531,\n",
       " 0.015887837141658936,\n",
       " 0.016118095650958342,\n",
       " 0.016348354160257747,\n",
       " 0.016578612669557152,\n",
       " 0.016808871178856558,\n",
       " 0.017039129688155963,\n",
       " 0.017269388197455368,\n",
       " 0.017499646706754773,\n",
       " 0.017729905216054179,\n",
       " 0.017960163725353584,\n",
       " 0.018190422234652989,\n",
       " 0.018420680743952395,\n",
       " 0.0186509392532518,\n",
       " 0.018881197762551205,\n",
       " 0.01911145627185061,\n",
       " 0.019341714781150016,\n",
       " 0.019571973290449421,\n",
       " 0.019802231799748826,\n",
       " 0.020032490309048231,\n",
       " 0.020262748818347637,\n",
       " 0.020493007327647042,\n",
       " 0.020723265836946447,\n",
       " 0.020953524346245853,\n",
       " 0.021183782855545258,\n",
       " 0.021414041364844663,\n",
       " 0.021644299874144068,\n",
       " 0.021874558383443474,\n",
       " 0.022104816892742879,\n",
       " 0.022335075402042284,\n",
       " 0.02256533391134169,\n",
       " 0.022795592420641095,\n",
       " 0.0230258509299405,\n",
       " 0.023256109439239905,\n",
       " 0.023486367948539311,\n",
       " 0.023716626457838716,\n",
       " 0.023946884967138121,\n",
       " 0.024177143476437526,\n",
       " 0.024407401985736932,\n",
       " 0.024637660495036337,\n",
       " 0.024867919004335742,\n",
       " 0.025098177513635148,\n",
       " 0.025328436022934553,\n",
       " 0.025558694532233958,\n",
       " 0.025788953041533363,\n",
       " 0.026019211550832769,\n",
       " 0.026249470060132174,\n",
       " 0.026479728569431579,\n",
       " 0.026709987078730985,\n",
       " 0.02694024558803039,\n",
       " 0.027170504097329795,\n",
       " 0.0274007626066292,\n",
       " 0.027631021115928606,\n",
       " 0.027861279625228011,\n",
       " 0.028091538134527416,\n",
       " 0.028321796643826821,\n",
       " 0.028552055153126227,\n",
       " 0.028782313662425632,\n",
       " 0.029012572171725037,\n",
       " 0.029242830681024443,\n",
       " 0.029473089190323848,\n",
       " 0.029703347699623253,\n",
       " 0.029933606208922658,\n",
       " 0.030163864718222064,\n",
       " 0.030394123227521469,\n",
       " 0.030624381736820874,\n",
       " 0.03085464024612028,\n",
       " 0.031084898755419685,\n",
       " 0.03131515726471909,\n",
       " 0.031545415774018495,\n",
       " 0.031775674283317901,\n",
       " 0.032005932792617306,\n",
       " 0.032236191301916711,\n",
       " 0.032466449811216117,\n",
       " 0.032696708320515522,\n",
       " 0.032926966829814927,\n",
       " 0.033157225339114332,\n",
       " 0.033387483848413738,\n",
       " 0.033617742357713143,\n",
       " 0.033848000867012548,\n",
       " 0.034078259376311953,\n",
       " 0.034308517885611359,\n",
       " 0.034538776394910764,\n",
       " 0.034769034904210169,\n",
       " 0.034999293413509575,\n",
       " 0.03522955192280898,\n",
       " 0.035459810432108385,\n",
       " 0.03569006894140779,\n",
       " 0.035920327450707196,\n",
       " 0.036150585960006601,\n",
       " 0.036380844469306006,\n",
       " 0.036611102978605412,\n",
       " 0.036841361487904817,\n",
       " 0.037071619997204222,\n",
       " 0.037301878506503627,\n",
       " 0.037532137015803033,\n",
       " 0.037762395525102438,\n",
       " 0.037992654034401843,\n",
       " 0.038222912543701248,\n",
       " 0.038453171053000654,\n",
       " 0.038683429562300059,\n",
       " 0.038913688071599464,\n",
       " 0.03914394658089887,\n",
       " 0.039374205090198275,\n",
       " 0.03960446359949768,\n",
       " 0.039834722108797085,\n",
       " 0.040064980618096491,\n",
       " 0.040295239127395896,\n",
       " 0.040525497636695301,\n",
       " 0.040755756145994707,\n",
       " 0.040986014655294112,\n",
       " 0.041216273164593517,\n",
       " 0.041446531673892922,\n",
       " 0.041676790183192328,\n",
       " 0.041907048692491733,\n",
       " 0.042137307201791138,\n",
       " 0.042367565711090543,\n",
       " 0.042597824220389949,\n",
       " 0.042828082729689354,\n",
       " 0.043058341238988759,\n",
       " 0.043288599748288165,\n",
       " 0.04351885825758757,\n",
       " 0.043749116766886975,\n",
       " 0.04397937527618638,\n",
       " 0.044209633785485786,\n",
       " 0.044439892294785191,\n",
       " 0.044670150804084596,\n",
       " 0.044900409313384002,\n",
       " 0.045130667822683407,\n",
       " 0.045360926331982812,\n",
       " 0.045591184841282217,\n",
       " 0.045821443350581623,\n",
       " 0.046051701859881028,\n",
       " 0.046281960369180433,\n",
       " 0.046512218878479838,\n",
       " 0.046742477387779244,\n",
       " 0.046972735897078649,\n",
       " 0.047202994406378054,\n",
       " 0.04743325291567746,\n",
       " 0.047663511424976865,\n",
       " 0.04789376993427627,\n",
       " 0.048124028443575675,\n",
       " 0.048354286952875081,\n",
       " 0.048584545462174486,\n",
       " 0.048814803971473891,\n",
       " 0.049045062480773297,\n",
       " 0.049275320990072702,\n",
       " 0.049505579499372107,\n",
       " 0.049735838008671512,\n",
       " 0.049966096517970918,\n",
       " 0.050196355027270323,\n",
       " 0.050426613536569728,\n",
       " 0.050656872045869134,\n",
       " 0.050887130555168539,\n",
       " 0.051117389064467944,\n",
       " 0.051347647573767349,\n",
       " 0.051577906083066755,\n",
       " 0.05180816459236616,\n",
       " 0.052038423101665565,\n",
       " 0.05226868161096497,\n",
       " 0.052498940120264376,\n",
       " 0.052729198629563781,\n",
       " 0.052959457138863186,\n",
       " 0.053189715648162592,\n",
       " 0.053419974157461997,\n",
       " 0.053650232666761402,\n",
       " 0.053880491176060807,\n",
       " 0.054110749685360213,\n",
       " 0.054341008194659618,\n",
       " 0.054571266703959023,\n",
       " 0.054801525213258429,\n",
       " 0.055031783722557834,\n",
       " 0.055262042231857239,\n",
       " 0.055492300741156644,\n",
       " 0.05572255925045605,\n",
       " 0.055952817759755455,\n",
       " 0.05618307626905486,\n",
       " 0.056413334778354265,\n",
       " 0.056643593287653671,\n",
       " 0.056873851796953076,\n",
       " 0.057104110306252481,\n",
       " 0.057334368815551887,\n",
       " 0.057564627324851292,\n",
       " 0.057794885834150697,\n",
       " 0.058025144343450102,\n",
       " 0.058255402852749508,\n",
       " 0.058485661362048913,\n",
       " 0.058715919871348318,\n",
       " 0.058946178380647724,\n",
       " 0.059176436889947129,\n",
       " 0.059406695399246534,\n",
       " 0.059636953908545939,\n",
       " 0.059867212417845345,\n",
       " 0.06009747092714475,\n",
       " 0.060327729436444155,\n",
       " 0.06055798794574356,\n",
       " 0.060788246455042966,\n",
       " 0.061018504964342371,\n",
       " 0.061248763473641776,\n",
       " 0.061479021982941182,\n",
       " 0.061709280492240587,\n",
       " 0.061939539001539992,\n",
       " 0.062169797510839397,\n",
       " 0.062400056020138803,\n",
       " 0.062630314529438208,\n",
       " 0.062860573038737613,\n",
       " 0.063090831548037019,\n",
       " 0.063321090057336424,\n",
       " 0.063551348566635829,\n",
       " 0.063781607075935234,\n",
       " 0.06401186558523464,\n",
       " 0.064242124094534045,\n",
       " 0.06447238260383345,\n",
       " 0.064702641113132855,\n",
       " 0.064932899622432261,\n",
       " 0.065163158131731666,\n",
       " 0.065393416641031071,\n",
       " 0.065623675150330477,\n",
       " 0.065853933659629882,\n",
       " 0.066084192168929287,\n",
       " 0.066314450678228692,\n",
       " 0.066544709187528098,\n",
       " 0.066774967696827503,\n",
       " 0.067005226206126908,\n",
       " 0.067235484715426314,\n",
       " 0.067465743224725719,\n",
       " 0.067696001734025124,\n",
       " 0.067926260243324529,\n",
       " 0.068156518752623935,\n",
       " 0.06838677726192334,\n",
       " 0.068617035771222745,\n",
       " 0.068847294280522151,\n",
       " 0.069077552789821556,\n",
       " 0.069307811299120961,\n",
       " 0.069538069808420366,\n",
       " 0.069768328317719772,\n",
       " 0.069998586827019177,\n",
       " 0.070228845336318582,\n",
       " 0.070459103845617987,\n",
       " 0.070689362354917393,\n",
       " 0.070919620864216798,\n",
       " 0.071149879373516203,\n",
       " 0.071380137882815609,\n",
       " 0.071610396392115014,\n",
       " 0.071840654901414419,\n",
       " 0.072070913410713824,\n",
       " 0.07230117192001323,\n",
       " 0.072531430429312635,\n",
       " 0.07276168893861204,\n",
       " 0.072991947447911446,\n",
       " 0.073222205957210851,\n",
       " 0.073452464466510256,\n",
       " 0.073682722975809661,\n",
       " 0.073912981485109067,\n",
       " 0.074143239994408472,\n",
       " 0.074373498503707877,\n",
       " 0.074603757013007282,\n",
       " 0.074834015522306688,\n",
       " 0.075064274031606093,\n",
       " 0.075294532540905498,\n",
       " 0.075524791050204904,\n",
       " 0.075755049559504309,\n",
       " 0.075985308068803714,\n",
       " 0.076215566578103119,\n",
       " 0.076445825087402525,\n",
       " 0.07667608359670193,\n",
       " 0.076906342106001335,\n",
       " 0.077136600615300741,\n",
       " 0.077366859124600146,\n",
       " 0.077597117633899551,\n",
       " 0.077827376143198956,\n",
       " 0.078057634652498362,\n",
       " 0.078287893161797767,\n",
       " 0.078518151671097172,\n",
       " 0.078748410180396577,\n",
       " 0.078978668689695983,\n",
       " 0.079208927198995388,\n",
       " 0.079439185708294793,\n",
       " 0.079669444217594199,\n",
       " 0.079899702726893604,\n",
       " 0.080129961236193009,\n",
       " 0.080360219745492414,\n",
       " 0.08059047825479182,\n",
       " 0.080820736764091225,\n",
       " 0.08105099527339063,\n",
       " 0.081281253782690036,\n",
       " 0.081511512291989441,\n",
       " 0.081741770801288846,\n",
       " 0.081972029310588251,\n",
       " 0.082202287819887657,\n",
       " 0.082432546329187062,\n",
       " 0.082662804838486467,\n",
       " 0.082893063347785872,\n",
       " 0.083123321857085278,\n",
       " 0.083353580366384683,\n",
       " 0.083583838875684088,\n",
       " 0.083814097384983494,\n",
       " 0.084044355894282899,\n",
       " 0.084274614403582304,\n",
       " 0.084504872912881709,\n",
       " 0.084735131422181115,\n",
       " 0.08496538993148052,\n",
       " 0.085195648440779925,\n",
       " 0.085425906950079331,\n",
       " 0.085656165459378736,\n",
       " 0.085886423968678141,\n",
       " 0.086116682477977546,\n",
       " 0.086346940987276952,\n",
       " 0.086577199496576357,\n",
       " 0.086807458005875762,\n",
       " 0.087037716515175167,\n",
       " 0.087267975024474573,\n",
       " 0.087498233533773978,\n",
       " 0.087728492043073383,\n",
       " 0.087958750552372789,\n",
       " 0.088189009061672194,\n",
       " 0.088419267570971599,\n",
       " 0.088649526080271004,\n",
       " 0.08887978458957041,\n",
       " 0.089110043098869815,\n",
       " 0.08934030160816922,\n",
       " 0.089570560117468626,\n",
       " 0.089800818626768031,\n",
       " 0.090031077136067436,\n",
       " 0.090261335645366841,\n",
       " 0.090491594154666247,\n",
       " 0.090721852663965652,\n",
       " 0.090952111173265057,\n",
       " 0.091182369682564463,\n",
       " 0.091412628191863868,\n",
       " 0.091642886701163273,\n",
       " 0.091873145210462678,\n",
       " 0.092103403719762084,\n",
       " 0.092333662229061489,\n",
       " 0.092563920738360894,\n",
       " 0.092794179247660299,\n",
       " 0.093024437756959705,\n",
       " 0.09325469626625911,\n",
       " 0.093484954775558515,\n",
       " 0.093715213284857921,\n",
       " 0.093945471794157326,\n",
       " 0.094175730303456731,\n",
       " 0.094405988812756136,\n",
       " 0.094636247322055542,\n",
       " 0.094866505831354947,\n",
       " 0.095096764340654352,\n",
       " 0.095327022849953758,\n",
       " 0.095557281359253163,\n",
       " 0.095787539868552568,\n",
       " 0.096017798377851973,\n",
       " 0.096248056887151379,\n",
       " 0.096478315396450784,\n",
       " 0.096708573905750189,\n",
       " 0.096938832415049594,\n",
       " 0.097169090924349,\n",
       " 0.097399349433648405,\n",
       " 0.09762960794294781,\n",
       " 0.097859866452247216,\n",
       " 0.098090124961546621,\n",
       " 0.098320383470846026,\n",
       " 0.098550641980145431,\n",
       " 0.098780900489444837,\n",
       " 0.099011158998744242,\n",
       " 0.099241417508043647,\n",
       " 0.099471676017343053,\n",
       " 0.099701934526642458,\n",
       " 0.099932193035941863,\n",
       " 0.10016245154524127,\n",
       " 0.10039271005454067,\n",
       " 0.10062296856384008,\n",
       " 0.10085322707313948,\n",
       " 0.10108348558243889,\n",
       " 0.10131374409173829,\n",
       " 0.1015440026010377,\n",
       " 0.10177426111033711,\n",
       " 0.10200451961963651,\n",
       " 0.10223477812893592,\n",
       " 0.10246503663823532,\n",
       " 0.10269529514753473,\n",
       " 0.10292555365683413,\n",
       " 0.10315581216613354,\n",
       " 0.10338607067543294,\n",
       " 0.10361632918473235,\n",
       " 0.10384658769403175,\n",
       " 0.10407684620333116,\n",
       " 0.10430710471263056,\n",
       " 0.10453736322192997,\n",
       " 0.10476762173122937,\n",
       " 0.10499788024052878,\n",
       " 0.10522813874982818,\n",
       " 0.10545839725912759,\n",
       " 0.105688655768427,\n",
       " 0.1059189142777264,\n",
       " 0.10614917278702581,\n",
       " 0.10637943129632521,\n",
       " 0.10660968980562462,\n",
       " 0.10683994831492402,\n",
       " 0.10707020682422343,\n",
       " 0.10730046533352283,\n",
       " 0.10753072384282224,\n",
       " 0.10776098235212164,\n",
       " 0.10799124086142105,\n",
       " 0.10822149937072045,\n",
       " 0.10845175788001986,\n",
       " 0.10868201638931926,\n",
       " 0.10891227489861867,\n",
       " 0.10914253340791807,\n",
       " 0.10937279191721748,\n",
       " 0.10960305042651688,\n",
       " 0.10983330893581629,\n",
       " 0.1100635674451157,\n",
       " 0.1102938259544151,\n",
       " 0.11052408446371451,\n",
       " 0.11075434297301391,\n",
       " 0.11098460148231332,\n",
       " 0.11121485999161272,\n",
       " 0.11144511850091213,\n",
       " 0.11167537701021153,\n",
       " 0.11190563551951094,\n",
       " 0.11213589402881034,\n",
       " 0.11236615253810975,\n",
       " 0.11259641104740915,\n",
       " 0.11282666955670856,\n",
       " 0.11305692806600796,\n",
       " 0.11328718657530737,\n",
       " 0.11351744508460677,\n",
       " 0.11374770359390618,\n",
       " 0.11397796210320559,\n",
       " 0.11420822061250499,\n",
       " 0.1144384791218044,\n",
       " 0.1146687376311038,\n",
       " 0.11489899614040321,\n",
       " 0.11512925464970261,\n",
       " 0.11535951315900202,\n",
       " 0.11558977166830142,\n",
       " 0.11582003017760083,\n",
       " 0.11605028868690023,\n",
       " 0.11628054719619964,\n",
       " 0.11651080570549904,\n",
       " 0.11674106421479845,\n",
       " 0.11697132272409785,\n",
       " 0.11720158123339726,\n",
       " 0.11743183974269666,\n",
       " 0.11766209825199607,\n",
       " 0.11789235676129547,\n",
       " 0.11812261527059488,\n",
       " 0.11835287377989429,\n",
       " 0.11858313228919369,\n",
       " 0.1188133907984931,\n",
       " 0.1190436493077925,\n",
       " 0.11927390781709191,\n",
       " 0.11950416632639131,\n",
       " 0.11973442483569072,\n",
       " 0.11996468334499012,\n",
       " 0.12019494185428953,\n",
       " 0.12042520036358893,\n",
       " 0.12065545887288834,\n",
       " 0.12088571738218774,\n",
       " 0.12111597589148715,\n",
       " 0.12134623440078655,\n",
       " 0.12157649291008596,\n",
       " 0.12180675141938536,\n",
       " 0.12203700992868477,\n",
       " 0.12226726843798418,\n",
       " 0.12249752694728358,\n",
       " 0.12272778545658299,\n",
       " 0.12295804396588239,\n",
       " 0.1231883024751818,\n",
       " 0.1234185609844812,\n",
       " 0.12364881949378061,\n",
       " 0.12387907800308001,\n",
       " 0.12410933651237942,\n",
       " 0.12433959502167882,\n",
       " 0.12456985353097823,\n",
       " 0.12480011204027763,\n",
       " 0.12503037054957702,\n",
       " 0.12526062905887642,\n",
       " 0.12549088756817581,\n",
       " 0.1257211460774752,\n",
       " 0.12595140458677459,\n",
       " 0.12618166309607398,\n",
       " 0.12641192160537337,\n",
       " 0.12664218011467276,\n",
       " 0.12687243862397216,\n",
       " 0.12710269713327155,\n",
       " 0.12733295564257094,\n",
       " 0.12756321415187033,\n",
       " 0.12779347266116972,\n",
       " 0.12802373117046911,\n",
       " 0.1282539896797685,\n",
       " 0.1284842481890679,\n",
       " 0.12871450669836729,\n",
       " 0.12894476520766668,\n",
       " 0.12917502371696607,\n",
       " 0.12940528222626546,\n",
       " 0.12963554073556485,\n",
       " 0.12986579924486424,\n",
       " 0.13009605775416364,\n",
       " 0.13032631626346303,\n",
       " 0.13055657477276242,\n",
       " 0.13078683328206181,\n",
       " 0.1310170917913612,\n",
       " 0.13124735030066059,\n",
       " 0.13147760880995998,\n",
       " 0.13170786731925938,\n",
       " 0.13193812582855877,\n",
       " 0.13216838433785816,\n",
       " 0.13239864284715755,\n",
       " 0.13262890135645694,\n",
       " 0.13285915986575633,\n",
       " 0.13308941837505572,\n",
       " 0.13331967688435511,\n",
       " 0.13354993539365451,\n",
       " 0.1337801939029539,\n",
       " 0.13401045241225329,\n",
       " 0.13424071092155268,\n",
       " 0.13447096943085207,\n",
       " 0.13470122794015146,\n",
       " 0.13493148644945085,\n",
       " 0.13516174495875025,\n",
       " 0.13539200346804964,\n",
       " 0.13562226197734903,\n",
       " 0.13585252048664842,\n",
       " 0.13608277899594781,\n",
       " 0.1363130375052472,\n",
       " 0.13654329601454659,\n",
       " 0.13677355452384599,\n",
       " 0.13700381303314538,\n",
       " 0.13723407154244477,\n",
       " 0.13746433005174416,\n",
       " 0.13769458856104355,\n",
       " 0.13792484707034294,\n",
       " 0.13815510557964233,\n",
       " 0.13838536408894173,\n",
       " 0.13861562259824112,\n",
       " 0.13884588110754051,\n",
       " 0.1390761396168399,\n",
       " 0.13930639812613929,\n",
       " 0.13953665663543868,\n",
       " 0.13976691514473807,\n",
       " 0.13999717365403747,\n",
       " 0.14022743216333686,\n",
       " 0.14045769067263625,\n",
       " 0.14068794918193564,\n",
       " 0.14091820769123503,\n",
       " 0.14114846620053442,\n",
       " 0.14137872470983381,\n",
       " 0.14160898321913321,\n",
       " 0.1418392417284326,\n",
       " 0.14206950023773199,\n",
       " 0.14229975874703138,\n",
       " 0.14253001725633077,\n",
       " 0.14276027576563016,\n",
       " 0.14299053427492955,\n",
       " 0.14322079278422895,\n",
       " 0.14345105129352834,\n",
       " 0.14368130980282773,\n",
       " 0.14391156831212712,\n",
       " 0.14414182682142651,\n",
       " 0.1443720853307259,\n",
       " 0.14460234384002529,\n",
       " 0.14483260234932469,\n",
       " 0.14506286085862408,\n",
       " 0.14529311936792347,\n",
       " 0.14552337787722286,\n",
       " 0.14575363638652225,\n",
       " 0.14598389489582164,\n",
       " 0.14621415340512103,\n",
       " 0.14644441191442042,\n",
       " 0.14667467042371982,\n",
       " 0.14690492893301921,\n",
       " 0.1471351874423186,\n",
       " 0.14736544595161799,\n",
       " 0.14759570446091738,\n",
       " 0.14782596297021677,\n",
       " 0.14805622147951616,\n",
       " 0.14828647998881556,\n",
       " 0.14851673849811495,\n",
       " 0.14874699700741434,\n",
       " 0.14897725551671373,\n",
       " 0.14920751402601312,\n",
       " 0.14943777253531251,\n",
       " 0.1496680310446119,\n",
       " 0.1498982895539113,\n",
       " 0.15012854806321069,\n",
       " 0.15035880657251008,\n",
       " 0.15058906508180947,\n",
       " 0.15081932359110886,\n",
       " 0.15104958210040825,\n",
       " 0.15127984060970764,\n",
       " 0.15151009911900704,\n",
       " 0.15174035762830643,\n",
       " 0.15197061613760582,\n",
       " 0.15220087464690521,\n",
       " 0.1524311331562046,\n",
       " 0.15266139166550399,\n",
       " 0.15289165017480338,\n",
       " 0.15312190868410278,\n",
       " 0.15335216719340217,\n",
       " 0.15358242570270156,\n",
       " 0.15381268421200095,\n",
       " 0.15404294272130034,\n",
       " 0.15427320123059973,\n",
       " 0.15450345973989912,\n",
       " 0.15473371824919852,\n",
       " 0.15496397675849791,\n",
       " 0.1551942352677973,\n",
       " 0.15542449377709669,\n",
       " 0.15565475228639608,\n",
       " 0.15588501079569547,\n",
       " 0.15611526930499486,\n",
       " 0.15634552781429426,\n",
       " 0.15657578632359365,\n",
       " 0.15680604483289304,\n",
       " 0.15703630334219243,\n",
       " 0.15726656185149182,\n",
       " 0.15749682036079121,\n",
       " 0.1577270788700906,\n",
       " 0.15795733737938999,\n",
       " 0.15818759588868939,\n",
       " 0.15841785439798878,\n",
       " 0.15864811290728817,\n",
       " 0.15887837141658756,\n",
       " 0.15910862992588695,\n",
       " 0.15933888843518634,\n",
       " 0.15956914694448573,\n",
       " 0.15979940545378513,\n",
       " 0.16002966396308452,\n",
       " 0.16025992247238391,\n",
       " 0.1604901809816833,\n",
       " 0.16072043949098269,\n",
       " 0.16095069800028208,\n",
       " 0.16118095650958147,\n",
       " 0.16141121501888087,\n",
       " 0.16164147352818026,\n",
       " 0.16187173203747965,\n",
       " 0.16210199054677904,\n",
       " 0.16233224905607843,\n",
       " 0.16256250756537782,\n",
       " 0.16279276607467721,\n",
       " 0.16302302458397661,\n",
       " 0.163253283093276,\n",
       " 0.16348354160257539,\n",
       " 0.16371380011187478,\n",
       " 0.16394405862117417,\n",
       " 0.16417431713047356,\n",
       " 0.16440457563977295,\n",
       " 0.16463483414907235,\n",
       " 0.16486509265837174,\n",
       " 0.16509535116767113,\n",
       " 0.16532560967697052,\n",
       " 0.16555586818626991,\n",
       " 0.1657861266955693,\n",
       " 0.16601638520486869,\n",
       " 0.16624664371416809,\n",
       " 0.16647690222346748,\n",
       " 0.16670716073276687,\n",
       " 0.16693741924206626,\n",
       " 0.16716767775136565,\n",
       " 0.16739793626066504,\n",
       " 0.16762819476996443,\n",
       " 0.16785845327926383,\n",
       " 0.16808871178856322,\n",
       " 0.16831897029786261,\n",
       " 0.168549228807162,\n",
       " 0.16877948731646139,\n",
       " 0.16900974582576078,\n",
       " 0.16924000433506017,\n",
       " 0.16947026284435956,\n",
       " 0.16970052135365896,\n",
       " 0.16993077986295835,\n",
       " 0.17016103837225774,\n",
       " 0.17039129688155713,\n",
       " 0.17062155539085652,\n",
       " 0.17085181390015591,\n",
       " 0.1710820724094553,\n",
       " 0.1713123309187547,\n",
       " 0.17154258942805409,\n",
       " 0.17177284793735348,\n",
       " 0.17200310644665287,\n",
       " 0.17223336495595226,\n",
       " 0.17246362346525165,\n",
       " 0.17269388197455104,\n",
       " 0.17292414048385044,\n",
       " 0.17315439899314983,\n",
       " 0.17338465750244922,\n",
       " 0.17361491601174861,\n",
       " 0.173845174521048,\n",
       " 0.17407543303034739,\n",
       " 0.17430569153964678,\n",
       " 0.17453595004894618,\n",
       " 0.17476620855824557,\n",
       " 0.17499646706754496,\n",
       " 0.17522672557684435,\n",
       " 0.17545698408614374,\n",
       " 0.17568724259544313,\n",
       " 0.17591750110474252,\n",
       " 0.17614775961404192,\n",
       " 0.17637801812334131,\n",
       " 0.1766082766326407,\n",
       " 0.17683853514194009,\n",
       " 0.17706879365123948,\n",
       " 0.17729905216053887,\n",
       " 0.17752931066983826,\n",
       " 0.17775956917913766,\n",
       " 0.17798982768843705,\n",
       " 0.17822008619773644,\n",
       " 0.17845034470703583,\n",
       " 0.17868060321633522,\n",
       " 0.17891086172563461,\n",
       " 0.179141120234934,\n",
       " 0.1793713787442334,\n",
       " 0.17960163725353279,\n",
       " 0.17983189576283218,\n",
       " 0.18006215427213157,\n",
       " 0.18029241278143096,\n",
       " 0.18052267129073035,\n",
       " 0.18075292980002974,\n",
       " 0.18098318830932913,\n",
       " 0.18121344681862853,\n",
       " 0.18144370532792792,\n",
       " 0.18167396383722731,\n",
       " 0.1819042223465267,\n",
       " 0.18213448085582609,\n",
       " 0.18236473936512548,\n",
       " 0.18259499787442487,\n",
       " 0.18282525638372427,\n",
       " 0.18305551489302366,\n",
       " 0.18328577340232305,\n",
       " 0.18351603191162244,\n",
       " 0.18374629042092183,\n",
       " 0.18397654893022122,\n",
       " 0.18420680743952061,\n",
       " 0.18443706594882001,\n",
       " 0.1846673244581194,\n",
       " 0.18489758296741879,\n",
       " 0.18512784147671818,\n",
       " 0.18535809998601757,\n",
       " 0.18558835849531696,\n",
       " 0.18581861700461635,\n",
       " 0.18604887551391575,\n",
       " 0.18627913402321514,\n",
       " 0.18650939253251453,\n",
       " 0.18673965104181392,\n",
       " 0.18696990955111331,\n",
       " 0.1872001680604127,\n",
       " 0.18743042656971209,\n",
       " 0.18766068507901149,\n",
       " 0.18789094358831088,\n",
       " 0.18812120209761027,\n",
       " 0.18835146060690966,\n",
       " 0.18858171911620905,\n",
       " 0.18881197762550844,\n",
       " 0.18904223613480783,\n",
       " 0.18927249464410723,\n",
       " 0.18950275315340662,\n",
       " 0.18973301166270601,\n",
       " 0.1899632701720054,\n",
       " 0.19019352868130479,\n",
       " 0.19042378719060418,\n",
       " 0.19065404569990357,\n",
       " 0.19088430420920297,\n",
       " 0.19111456271850236,\n",
       " 0.19134482122780175,\n",
       " 0.19157507973710114,\n",
       " 0.19180533824640053,\n",
       " 0.19203559675569992,\n",
       " 0.19226585526499931,\n",
       " 0.1924961137742987,\n",
       " 0.1927263722835981,\n",
       " 0.19295663079289749,\n",
       " 0.19318688930219688,\n",
       " 0.19341714781149627,\n",
       " 0.19364740632079566,\n",
       " 0.19387766483009505,\n",
       " 0.19410792333939444,\n",
       " 0.19433818184869384,\n",
       " 0.19456844035799323,\n",
       " 0.19479869886729262,\n",
       " 0.19502895737659201,\n",
       " 0.1952592158858914,\n",
       " 0.19548947439519079,\n",
       " 0.19571973290449018,\n",
       " 0.19594999141378958,\n",
       " 0.19618024992308897,\n",
       " 0.19641050843238836,\n",
       " 0.19664076694168775,\n",
       " 0.19687102545098714,\n",
       " 0.19710128396028653,\n",
       " 0.19733154246958592,\n",
       " 0.19756180097888532,\n",
       " 0.19779205948818471,\n",
       " 0.1980223179974841,\n",
       " 0.19825257650678349,\n",
       " 0.19848283501608288,\n",
       " 0.19871309352538227,\n",
       " 0.19894335203468166,\n",
       " 0.19917361054398106,\n",
       " 0.19940386905328045,\n",
       " 0.19963412756257984,\n",
       " 0.19986438607187923,\n",
       " 0.20009464458117862,\n",
       " 0.20032490309047801,\n",
       " 0.2005551615997774,\n",
       " 0.2007854201090768,\n",
       " 0.20101567861837619,\n",
       " 0.20124593712767558,\n",
       " 0.20147619563697497,\n",
       " 0.20170645414627436,\n",
       " 0.20193671265557375,\n",
       " 0.20216697116487314,\n",
       " 0.20239722967417254,\n",
       " 0.20262748818347193,\n",
       " 0.20285774669277132,\n",
       " 0.20308800520207071,\n",
       " 0.2033182637113701,\n",
       " 0.20354852222066949,\n",
       " 0.20377878072996888,\n",
       " 0.20400903923926827,\n",
       " 0.20423929774856767,\n",
       " 0.20446955625786706,\n",
       " 0.20469981476716645,\n",
       " 0.20493007327646584,\n",
       " 0.20516033178576523,\n",
       " 0.20539059029506462,\n",
       " 0.20562084880436401,\n",
       " 0.20585110731366341,\n",
       " 0.2060813658229628,\n",
       " 0.20631162433226219,\n",
       " 0.20654188284156158,\n",
       " 0.20677214135086097,\n",
       " 0.20700239986016036,\n",
       " 0.20723265836945975,\n",
       " 0.20746291687875915,\n",
       " 0.20769317538805854,\n",
       " 0.20792343389735793,\n",
       " 0.20815369240665732,\n",
       " 0.20838395091595671,\n",
       " 0.2086142094252561,\n",
       " 0.20884446793455549,\n",
       " 0.20907472644385489,\n",
       " 0.20930498495315428,\n",
       " 0.20953524346245367,\n",
       " 0.20976550197175306,\n",
       " 0.20999576048105245,\n",
       " 0.21022601899035184,\n",
       " 0.21045627749965123,\n",
       " 0.21068653600895063,\n",
       " 0.21091679451825002,\n",
       " 0.21114705302754941,\n",
       " 0.2113773115368488,\n",
       " 0.21160757004614819,\n",
       " 0.21183782855544758,\n",
       " 0.21206808706474697,\n",
       " 0.21229834557404637,\n",
       " 0.21252860408334576,\n",
       " 0.21275886259264515,\n",
       " 0.21298912110194454,\n",
       " 0.21321937961124393,\n",
       " 0.21344963812054332,\n",
       " 0.21367989662984271,\n",
       " 0.21391015513914211,\n",
       " 0.2141404136484415,\n",
       " 0.21437067215774089,\n",
       " 0.21460093066704028,\n",
       " 0.21483118917633967,\n",
       " 0.21506144768563906,\n",
       " 0.21529170619493845,\n",
       " 0.21552196470423785,\n",
       " 0.21575222321353724,\n",
       " 0.21598248172283663,\n",
       " 0.21621274023213602,\n",
       " 0.21644299874143541,\n",
       " 0.2166732572507348,\n",
       " 0.21690351576003419,\n",
       " 0.21713377426933358,\n",
       " 0.21736403277863298,\n",
       " 0.21759429128793237,\n",
       " 0.21782454979723176,\n",
       " 0.21805480830653115,\n",
       " 0.21828506681583054,\n",
       " 0.21851532532512993,\n",
       " 0.21874558383442932,\n",
       " 0.21897584234372872,\n",
       " 0.21920610085302811,\n",
       " 0.2194363593623275,\n",
       " 0.21966661787162689,\n",
       " 0.21989687638092628,\n",
       " 0.22012713489022567,\n",
       " 0.22035739339952506,\n",
       " 0.22058765190882446,\n",
       " 0.22081791041812385,\n",
       " 0.22104816892742324,\n",
       " 0.22127842743672263,\n",
       " 0.22150868594602202,\n",
       " 0.22173894445532141,\n",
       " 0.2219692029646208,\n",
       " 0.2221994614739202,\n",
       " 0.22242971998321959,\n",
       " 0.22265997849251898,\n",
       " 0.22289023700181837,\n",
       " 0.22312049551111776,\n",
       " 0.22335075402041715,\n",
       " 0.22358101252971654,\n",
       " 0.22381127103901594,\n",
       " 0.22404152954831533,\n",
       " 0.22427178805761472,\n",
       " 0.22450204656691411,\n",
       " 0.2247323050762135,\n",
       " 0.22496256358551289,\n",
       " 0.22519282209481228,\n",
       " 0.22542308060411168,\n",
       " 0.22565333911341107,\n",
       " 0.22588359762271046,\n",
       " 0.22611385613200985,\n",
       " 0.22634411464130924,\n",
       " 0.22657437315060863,\n",
       " 0.22680463165990802,\n",
       " 0.22703489016920742,\n",
       " 0.22726514867850681,\n",
       " 0.2274954071878062,\n",
       " 0.22772566569710559,\n",
       " 0.22795592420640498,\n",
       " 0.22818618271570437,\n",
       " 0.22841644122500376,\n",
       " 0.22864669973430315,\n",
       " 0.22887695824360255,\n",
       " 0.22910721675290194,\n",
       " 0.22933747526220133,\n",
       " 0.22956773377150072,\n",
       " 0.22979799228080011,\n",
       " 0.2300282507900995,\n",
       " ...]"
      ]
     },
     "execution_count": 30,
     "metadata": {},
     "output_type": "execute_result"
    }
   ],
   "source": [
    "tiempos"
   ]
  },
  {
   "cell_type": "code",
   "execution_count": null,
   "metadata": {
    "collapsed": true
   },
   "outputs": [],
   "source": []
  },
  {
   "cell_type": "code",
   "execution_count": 68,
   "metadata": {
    "collapsed": false
   },
   "outputs": [
    {
     "data": {
      "text/plain": [
       "<matplotlib.text.Text at 0x10b266fd0>"
      ]
     },
     "execution_count": 68,
     "metadata": {},
     "output_type": "execute_result"
    },
    {
     "data": {
      "image/png": "[encoded data removed]",
      "text/plain": [
       "<matplotlib.figure.Figure at 0x10afd9cd0>"
      ]
     },
     "metadata": {},
     "output_type": "display_data"
    }
   ],
   "source": [
    "plt.rc('text', usetex=True)  \n",
    "plt.plot(tiempos, promedio_phi_en_t)\n",
    "plt.ylabel(r'$\\langle \\phi(t)\\rangle$ $\\mbox{rad}$', fontsize = 15)\n",
    "plt.xlabel('tiempo', fontsize = 15)"
   ]
  },
  {
   "cell_type": "code",
   "execution_count": 69,
   "metadata": {
    "collapsed": false
   },
   "outputs": [
    {
     "data": {
      "text/plain": [
       "<matplotlib.text.Text at 0x10a3b01d0>"
      ]
     },
     "execution_count": 69,
     "metadata": {},
     "output_type": "execute_result"
    },
    {
     "data": {
      "image/png": "[encoded data removed]",
      "text/plain": [
       "<matplotlib.figure.Figure at 0x109b06690>"
      ]
     },
     "metadata": {},
     "output_type": "display_data"
    }
   ],
   "source": [
    "plt.rc('text', usetex=True)\n",
    "plt.plot(tiempos, var_phi_en_t, alpha = .8, color = 'g')\n",
    "plt.ylabel(r'$\\mbox{Var}[\\phi(t)]$ $\\mbox{rad}^2$', fontsize = 15)\n",
    "plt.xlabel('tiempo', fontsize = 12)"
   ]
  },
  {
   "cell_type": "code",
   "execution_count": null,
   "metadata": {
    "collapsed": true
   },
   "outputs": [],
   "source": []
  },
  {
   "cell_type": "code",
   "execution_count": 56,
   "metadata": {
    "collapsed": false
   },
   "outputs": [
    {
     "ename": "NameError",
     "evalue": "name 'cos_theta' is not defined",
     "output_type": "error",
     "traceback": [
      "\u001b[0;31m---------------------------------------------------------------------------\u001b[0m",
      "\u001b[0;31mNameError\u001b[0m                                 Traceback (most recent call last)",
      "\u001b[0;32m<ipython-input-56-6722b0140435>\u001b[0m in \u001b[0;36m<module>\u001b[0;34m()\u001b[0m\n\u001b[1;32m      1\u001b[0m \u001b[0;31m#cos_theta = np.cos(promedio_en_t)\u001b[0m\u001b[0;34m\u001b[0m\u001b[0;34m\u001b[0m\u001b[0m\n\u001b[0;32m----> 2\u001b[0;31m \u001b[0mlog_cos_theta\u001b[0m \u001b[0;34m=\u001b[0m \u001b[0mnp\u001b[0m\u001b[0;34m.\u001b[0m\u001b[0mlog\u001b[0m\u001b[0;34m(\u001b[0m\u001b[0mcos_theta\u001b[0m\u001b[0;34m)\u001b[0m\u001b[0;34m\u001b[0m\u001b[0m\n\u001b[0m",
      "\u001b[0;31mNameError\u001b[0m: name 'cos_theta' is not defined"
     ]
    }
   ],
   "source": [
    "#cos_theta = np.cos(promedio_en_t)\n",
    "log_cos_theta = np.log(cos_theta)"
   ]
  },
  {
   "cell_type": "code",
   "execution_count": null,
   "metadata": {
    "collapsed": true
   },
   "outputs": [],
   "source": []
  },
  {
   "cell_type": "markdown",
   "metadata": {},
   "source": [
    "## Una simulación más en donde se ve la presición del algoritmo"
   ]
  },
  {
   "cell_type": "code",
   "execution_count": 70,
   "metadata": {
    "collapsed": false
   },
   "outputs": [
    {
     "data": {
      "text/plain": [
       "<matplotlib.legend.Legend at 0x10b2fa9d0>"
      ]
     },
     "execution_count": 70,
     "metadata": {},
     "output_type": "execute_result"
    },
    {
     "data": {
      "image/png": "[encoded data removed]",
      "text/plain": [
       "<matplotlib.figure.Figure at 0x10ae86a90>"
      ]
     },
     "metadata": {},
     "output_type": "display_data"
    }
   ],
   "source": [
    "plt.plot(tiempos[:], promedio_cos_theta[:], label=r\"$\\langle \\cos{\\theta} \\rangle$\")\n",
    "#plt.yscale(\"log\")\n",
    "#plt.plot(tiempos, np.exp(-4*tiempos))\n",
    "plt.plot(np.array(tiempos[:]), np.exp(-2*np.array(tiempos[:])), label=r\"$\\exp{[-2Dt/R^2]}$\")\n",
    "plt.ylabel(r'$\\langle \\cos{\\theta} \\rangle$', fontsize = 18)\n",
    "plt.xlabel('tiempo', fontsize = 12)\n",
    "plt.legend(loc=0); # upper right"
   ]
  },
  {
   "cell_type": "code",
   "execution_count": 71,
   "metadata": {
    "collapsed": false
   },
   "outputs": [
    {
     "data": {
      "text/plain": [
       "<matplotlib.legend.Legend at 0x10b6c5750>"
      ]
     },
     "execution_count": 71,
     "metadata": {},
     "output_type": "execute_result"
    },
    {
     "data": {
      "image/png": "[encoded data removed]",
      "text/plain": [
       "<matplotlib.figure.Figure at 0x109790d90>"
      ]
     },
     "metadata": {},
     "output_type": "display_data"
    }
   ],
   "source": [
    "plt.plot(tiempos[:], promedio_cos_theta[:], label=r\"$\\langle \\cos{\\theta} \\rangle$\")\n",
    "#plt.yscale(\"log\")\n",
    "#plt.plot(tiempos, np.exp(-4*tiempos))\n",
    "plt.plot(np.array(tiempos[:]), np.exp(-2*np.array(tiempos[:])), label=r\"$\\exp{[-2Dt/R^2]}$\")\n",
    "plt.ylabel(r'$\\langle \\cos{\\theta} \\rangle$', fontsize = 18)\n",
    "plt.yscale(\"log\")\n",
    "plt.xlabel('tiempo', fontsize = 12)\n",
    "plt.legend(loc=0); # upper right"
   ]
  },
  {
   "cell_type": "code",
   "execution_count": 72,
   "metadata": {
    "collapsed": false
   },
   "outputs": [
    {
     "name": "stdout",
     "output_type": "stream",
     "text": [
      "-1.650188597 -0.19781314834\n"
     ]
    }
   ],
   "source": [
    "A = np.vstack((tiempos, np.ones(len(tiempos)))).T\n",
    "m, c = np.linalg.lstsq(A, np.log(np.array(promedio_cos_theta)))[0]\n",
    "print m, c"
   ]
  },
  {
   "cell_type": "code",
   "execution_count": 64,
   "metadata": {
    "collapsed": false
   },
   "outputs": [
    {
     "data": {
      "image/png": "[encoded data removed]",
      "text/plain": [
       "<matplotlib.figure.Figure at 0x10ad73150>"
      ]
     },
     "metadata": {},
     "output_type": "display_data"
    }
   ],
   "source": [
    "plt.plot(tiempos, np.log(np.array(promedio_cos_theta)), 'o', label='Original data', markersize=5)\n",
    "plt.plot(tiempos, m*np.array(tiempos) + c, 'r', label='Fitted line')\n",
    "plt.legend()\n",
    "plt.show()"
   ]
  },
  {
   "cell_type": "code",
   "execution_count": null,
   "metadata": {
    "collapsed": true
   },
   "outputs": [],
   "source": []
  },
  {
   "cell_type": "markdown",
   "metadata": {},
   "source": [
    "## Para el ajuste de la recta"
   ]
  },
  {
   "cell_type": "code",
   "execution_count": 42,
   "metadata": {
    "collapsed": false
   },
   "outputs": [
    {
     "data": {
      "text/plain": [
       "-1.8750965595664355"
      ]
     },
     "execution_count": 42,
     "metadata": {},
     "output_type": "execute_result"
    }
   ],
   "source": [
    "m"
   ]
  },
  {
   "cell_type": "code",
   "execution_count": 228,
   "metadata": {
    "collapsed": false
   },
   "outputs": [
    {
     "data": {
      "text/plain": [
       "array([-0.        , -0.00471191, -0.00942383, ..., -4.7024889 ,\n",
       "       -4.70720081, -4.71191272])"
      ]
     },
     "execution_count": 228,
     "metadata": {},
     "output_type": "execute_result"
    }
   ],
   "source": [
    "m*np.array(tiempos)"
   ]
  },
  {
   "cell_type": "code",
   "execution_count": 220,
   "metadata": {
    "collapsed": false
   },
   "outputs": [
    {
     "data": {
      "text/plain": [
       "array([ 0.01902013,  0.01902013,  0.01902013, ...,  0.01902013,\n",
       "        0.01902013,  0.01902013])"
      ]
     },
     "execution_count": 220,
     "metadata": {},
     "output_type": "execute_result"
    }
   ],
   "source": [
    "b*np.ones(len(tiempos))"
   ]
  },
  {
   "cell_type": "code",
   "execution_count": null,
   "metadata": {
    "collapsed": true
   },
   "outputs": [],
   "source": []
  },
  {
   "cell_type": "code",
   "execution_count": null,
   "metadata": {
    "collapsed": true
   },
   "outputs": [],
   "source": []
  },
  {
   "cell_type": "code",
   "execution_count": null,
   "metadata": {
    "collapsed": true
   },
   "outputs": [],
   "source": []
  },
  {
   "cell_type": "code",
   "execution_count": null,
   "metadata": {
    "collapsed": true
   },
   "outputs": [],
   "source": []
  },
  {
   "cell_type": "code",
   "execution_count": null,
   "metadata": {
    "collapsed": false
   },
   "outputs": [],
   "source": []
  },
  {
   "cell_type": "code",
   "execution_count": 19,
   "metadata": {
    "collapsed": false
   },
   "outputs": [
    {
     "data": {
      "image/png": "[encoded data removed]",
      "text/plain": [
       "<matplotlib.figure.Figure at 0x107b58e50>"
      ]
     },
     "metadata": {},
     "output_type": "display_data"
    }
   ],
   "source": [
    "y = np.exp(m*np.array(tiempos) + c*np.ones(len(tiempos)))\n",
    "\n",
    "plt.plot(tiempos, promedio_cos_theta, label = \"Simulacion\")\n",
    "plt.plot(tiempos, y, label = \"Ajuste: m = {}\".format(m))\n",
    "plt.yscale(\"log\")\n",
    "#plt.yscale(\"log\")\n",
    "#plt.plot(tiempos, np.exp(-4*tiempos))\n",
    "#plt.plot(np.array(tiempos), np.exp(-2*np.array(tiempos)))\n",
    "plt.ylabel(r'$\\log{\\langle \\cos{\\theta} \\rangle}$', fontsize = 15)\n",
    "plt.xlabel('tiempo', fontsize = 12)\n",
    "plt.yscale(\"log\")\n",
    "plt.legend(loc=0);"
   ]
  },
  {
   "cell_type": "code",
   "execution_count": null,
   "metadata": {
    "collapsed": false
   },
   "outputs": [],
   "source": []
  },
  {
   "cell_type": "code",
   "execution_count": null,
   "metadata": {
    "collapsed": false
   },
   "outputs": [],
   "source": []
  },
  {
   "cell_type": "code",
   "execution_count": null,
   "metadata": {
    "collapsed": false
   },
   "outputs": [],
   "source": [
    "\n"
   ]
  },
  {
   "cell_type": "code",
   "execution_count": 185,
   "metadata": {
    "collapsed": false
   },
   "outputs": [],
   "source": [
    "m = (log_cos_theta[600] - log_cos_theta[0])/(tiempos[600] - tiempos[0])"
   ]
  },
  {
   "cell_type": "code",
   "execution_count": 186,
   "metadata": {
    "collapsed": false
   },
   "outputs": [
    {
     "data": {
      "text/plain": [
       "-2.1813949100330605"
      ]
     },
     "execution_count": 186,
     "metadata": {},
     "output_type": "execute_result"
    }
   ],
   "source": [
    "m"
   ]
  },
  {
   "cell_type": "code",
   "execution_count": 66,
   "metadata": {
    "collapsed": false
   },
   "outputs": [],
   "source": [
    "m,b = np.polyfit(tiempos[:50],promedio_cos_theta[:50],1)"
   ]
  },
  {
   "cell_type": "code",
   "execution_count": 67,
   "metadata": {
    "collapsed": false
   },
   "outputs": [
    {
     "data": {
      "text/plain": [
       "-1.7694248358257085"
      ]
     },
     "execution_count": 67,
     "metadata": {},
     "output_type": "execute_result"
    }
   ],
   "source": [
    "m"
   ]
  },
  {
   "cell_type": "code",
   "execution_count": 214,
   "metadata": {
    "collapsed": false
   },
   "outputs": [
    {
     "data": {
      "text/plain": [
       "0.019020131276243829"
      ]
     },
     "execution_count": 214,
     "metadata": {},
     "output_type": "execute_result"
    }
   ],
   "source": [
    "b"
   ]
  },
  {
   "cell_type": "code",
   "execution_count": 215,
   "metadata": {
    "collapsed": true
   },
   "outputs": [],
   "source": [
    "y = m*np.array(tiempos) + b*np.ones(1001)"
   ]
  },
  {
   "cell_type": "code",
   "execution_count": null,
   "metadata": {
    "collapsed": true
   },
   "outputs": [],
   "source": []
  },
  {
   "cell_type": "code",
   "execution_count": null,
   "metadata": {
    "collapsed": true
   },
   "outputs": [],
   "source": []
  },
  {
   "cell_type": "code",
   "execution_count": null,
   "metadata": {
    "collapsed": true
   },
   "outputs": [],
   "source": []
  },
  {
   "cell_type": "code",
   "execution_count": 190,
   "metadata": {
    "collapsed": false
   },
   "outputs": [
    {
     "name": "stdout",
     "output_type": "stream",
     "text": [
      "/Users/adriano/Documents/Tesis_Maestria/Notebooks_ipy/Simulaciones_01\r\n"
     ]
    }
   ],
   "source": [
    "!pwd"
   ]
  },
  {
   "cell_type": "code",
   "execution_count": 191,
   "metadata": {
    "collapsed": false
   },
   "outputs": [
    {
     "name": "stdout",
     "output_type": "stream",
     "text": [
      "/Users/adriano/Documents/Tesis_Maestria/Notebooks_ipy\n"
     ]
    }
   ],
   "source": [
    "%cd /Users/adriano/Documents/Tesis_Maestria/Notebooks_ipy/"
   ]
  },
  {
   "cell_type": "code",
   "execution_count": null,
   "metadata": {
    "collapsed": true
   },
   "outputs": [],
   "source": []
  },
  {
   "cell_type": "code",
   "execution_count": 192,
   "metadata": {
    "collapsed": false
   },
   "outputs": [
    {
     "name": "stdout",
     "output_type": "stream",
     "text": [
      "Writing Brownian_Sphere_code_02vf01.py\n"
     ]
    }
   ],
   "source": [
    "%%file Brownian_Sphere_code_02vf01.py\n",
    "# %load Brownian_Sphere_code_02.py\n",
    "\n",
    "import numpy as np\n",
    "from matplotlib import pyplot as plt\n",
    "\n",
    "#Funcion que toma un vector y regresa otro ortogonal a este.\n",
    "def orto(x):\n",
    "    if np.dot(x,x) == 0:\n",
    "        return 'Pendejo: ese es el vector cero!'\n",
    "    else:\n",
    "        if 0 not in x:\n",
    "            v1 = 1\n",
    "            v2 = -(x[0]/x[1])\n",
    "            v3 = 0\n",
    "            #return np.array([v1,v2,v3])\n",
    "        else:\n",
    "            if x[0] == 0:\n",
    "                if x[1] == 0:\n",
    "                    v1 = 1\n",
    "                    v2 = 0\n",
    "                    v3 = 0\n",
    "                else:\n",
    "                    v1 = 0\n",
    "                    v2 = 0\n",
    "                    v3 = 1\n",
    "            elif x[1] == 0:\n",
    "                v1 = 0\n",
    "                v2 = 1\n",
    "                v3 = 0\n",
    "            else:\n",
    "                v1 = 0\n",
    "                v2 = 0\n",
    "                v3 = 1\n",
    "        return np.array([v1,v2,v3])\n",
    "    \n",
    "#Funcion que regresa dos vectores; numpy arrays, de 3D ortogonales al vector de imput x.\n",
    "def base_ort_nor(x):\n",
    "    y = orto(x)\n",
    "    v1 = y/np.linalg.norm(y)\n",
    "    z = np.cross(x,v1)\n",
    "    v2 = z/np.linalg.norm(z)\n",
    "    return v1, v2\n",
    "\n",
    "\n",
    "#Esta funcion genera un vector con distrubucion uniforme en las direcciones sobre un plano tangente a la esfera de radio R.\n",
    "def vector_des(v1,v2):\n",
    "    na = 2*np.pi*np.random.rand()\n",
    "    vn = v1*np.cos(na) + v2*np.sin(na)\n",
    "    return vn/np.linalg.norm(vn)\n",
    "\n",
    "R = 1\n",
    "\n",
    "#Normalizamos al vector de desplazamiento para que intersecte al vector de la nueva posicion de acuerdo con que el\n",
    "#desplazamiento (s) sobre la esfera, sobre este arco de circulo maximo, sea el determinado por el movimiento browniano particular.\n",
    "def vector_q(x,s):\n",
    "    q = (R)*np.tan(s/(R))\n",
    "    return q*x\n",
    "\n",
    "#Dados todos los datos anteriores, esta funcion actualiza la posición de la particula.\n",
    "def nuevo_r(r, vector_q):\n",
    "    y = r + vector_q\n",
    "    y = y/np.linalg.norm(y)\n",
    "    return (R)*y\n",
    "\n",
    "#Esta funcion ensambla todo lo anterior: como imput necesita una pocision inicial y un arco de desplazamiento\n",
    "#Como output da un vector de posicion nuevo dada un tipo de desplazamiento.\n",
    "def actualiza(r,s):\n",
    "    v1, v2 = base_ort_nor(r)\n",
    "    pre_q = vector_des(v1,v2)\n",
    "    q = vector_q(pre_q, s)\n",
    "    return nuevo_r(r, q)\n",
    "\n",
    "#Esta funcion cuando es llamada grafia la posicion de la particula browniana\n",
    "#sobre la superficie de una esfera sobre la que se esta difundiendo.\n",
    "def plot_particle(r,i):\n",
    "    from mpl_toolkits.mplot3d import axes3d\n",
    "    from mpl_toolkits.mplot3d import Axes3D\n",
    "    from matplotlib import cm\n",
    "\n",
    "    #import matplotlib.pyplot as plt\n",
    "    #import numpy as np\n",
    "    from itertools import product, combinations\n",
    "    fig = plt.figure(figsize=(20,10))\n",
    "    ax = fig.gca(projection='3d')\n",
    "    ax.set_aspect(\"equal\")\n",
    "\n",
    "    #draw a point\n",
    "    ax.scatter([r[0]],[r[1]],[r[2]],color=\"b\",s=100)\n",
    "    \n",
    "    \n",
    "    \n",
    "    \n",
    "\n",
    "    #draw sphere\n",
    "    u, v = np.mgrid[0:2*np.pi:50j, (np.pi/7):np.pi:50j]\n",
    "    x=R*np.cos(u)*np.sin(v)\n",
    "    y=R*np.sin(u)*np.sin(v)\n",
    "    z=R*np.cos(v)\n",
    "    #ax.plot_surface(x, y, z, color=\"r\", alpha = 0.15)\n",
    "    ax.plot_surface(x, y, z, cmap=cm.YlGnBu_r,rstride=1, cstride=1, alpha = 0.55, linewidth = 0.15)\n",
    "\n",
    "\n",
    "\n",
    "    #draw patch\n",
    "    u, v = np.mgrid[0:2*np.pi:50j, 0:(np.pi/7):50j]\n",
    "    x=R*np.cos(u)*np.sin(v)\n",
    "    y=R*np.sin(u)*np.sin(v)\n",
    "    z=R*np.cos(v)\n",
    "    ax.plot_surface(x, y, z, color=\"r\", alpha = 0.25)\n",
    "    \n",
    "\n",
    "\n",
    "    ax.view_init(80, 30)\n",
    "    #fig.savefig('BS_Rand_01.{}.png'.format(i))\n",
    "    \n",
    "    plt.show()\n",
    "    \n",
    "\n",
    "    \n",
    "#Esta funcion Genera n posiciones aleatorias sobre la superficie de la esfera de radio R.\n",
    "#El proposito de tener esta funcion es el de generar de manera automatizada\n",
    "#Una condicion inicial con distribucion uniforme sobre la esfera para varaias particulas Brownianas.\n",
    "def P_INS(n,R):\n",
    "    l = []\n",
    "    for i in range(n):\n",
    "        a1 = 2*np.pi*np.random.rand()\n",
    "        a2 = np.pi*np.random.rand()\n",
    "        l.append(np.array([R*np.sin(a2)*np.cos(a1),R*np.sin(a2)*np.sin(a1),R*np.cos(a2)]))\n",
    "    return l\n",
    "\n",
    "#Esta funcion cuando es llamada grafia la posicion de las partoculas brownianas.\n",
    "#sobre la superficie de una esfera sobre la que se esta difundiendo.\n",
    "def plot_particles(lista, vpolar, vazim, numero):\n",
    "    from mpl_toolkits.mplot3d import axes3d\n",
    "    from mpl_toolkits.mplot3d import Axes3D\n",
    "    from matplotlib import cm\n",
    "\n",
    "    #import matplotlib.pyplot as plt\n",
    "    #import numpy as np\n",
    "    from itertools import product, combinations\n",
    "    fig = plt.figure(figsize=(20,10))\n",
    "    ax = fig.gca(projection='3d')\n",
    "    ax.set_aspect(\"equal\")\n",
    "\n",
    "    \n",
    "\n",
    "\n",
    "\n",
    "    #draw sphere\n",
    "    R = 1\n",
    "    u, v = np.mgrid[0:2*np.pi:50j, 0:np.pi:50j]\n",
    "    x=R*np.cos(u)*np.sin(v)\n",
    "    y=R*np.sin(u)*np.sin(v)\n",
    "    z=R*np.cos(v)\n",
    "    #ax.plot_surface(x, y, z, color=\"r\", alpha = 0.15)\n",
    "\n",
    "    ax.plot_surface(x, y, z, cmap=cm.YlGnBu_r,rstride=1, cstride=1, alpha = 0.55, linewidth = 0.15)\n",
    "    ax.view_init(vpolar, vazim)\n",
    "    #draw patch\n",
    "    #u, v = np.mgrid[0:2*np.pi:50j, 0:(np.pi/7):50j]\n",
    "    #x=R*np.cos(u)*np.sin(v)\n",
    "    #y=R*np.sin(u)*np.sin(v)\n",
    "    #z=R*np.cos(v)\n",
    "    #ax.plot_surface(x, y, z, color=\"r\", alpha = 0.25)    \n",
    "    \n",
    "    #draw points\n",
    "    for p in lista:\n",
    "        ax.scatter([p[0]],[p[1]],[p[2]],color=\"b\",s=150)\n",
    "    \n",
    "    fig.savefig('BS_Obs_01.{}.png'.format(nombre(numero)))\n",
    "    #ax.view_init(80, 30)\n",
    "    plt.show()\n",
    "    \n",
    "#Esta función actualiza la posicion de todos los elementos de una lista; partícula brownianas.\n",
    "def act_n(lista,s):\n",
    "    l = []\n",
    "    for v in lista:\n",
    "        l.append(actualiza(v,s))\n",
    "    return l\n",
    "\n",
    "#Esta funcion simula la evolucion de n particulas brownianas difundiendose sobre la superficie de una esfera.\n",
    "#Grafica cada paso o instantanea del sistema completo.\n",
    "def sim_n_pb(lista, m):\n",
    "    plot_particles(lista)\n",
    "    sigma = lista\n",
    "    for i in range(m):\n",
    "        eta = act_n(sigma)\n",
    "        plot_particles(eta)\n",
    "        sigma = eta\n",
    "        \n",
    "#Funcion que pone n particulas en el polo norte de una esfera\n",
    "def polo_n(n, R):\n",
    "    l = []\n",
    "    for i in range(n):\n",
    "        l.append(np.array([0,0,R]))\n",
    "    return l\n",
    "\n",
    "\n",
    "#Operador de Rotación\n",
    "\n",
    "\n",
    "def rot_theta(r, theta, u):\n",
    "    x = np.array([np.cos(theta) + (u[0]*u[0])*(1 - np.cos(theta)), u[0]*u[1]*(1 - np.cos(theta)) - u[2]*np.sin(theta), u[0]*u[2]*(1 - np.cos(theta)) + u[1]*np.sin(theta)])\n",
    "    y = np.array([u[1]*u[0]*(1 - np.cos(theta)) + u[2]*np.sin(theta), np.cos(theta) + u[1]*u[1]*(1 - np.cos(theta)), u[1]*u[2]*(1 - np.cos(theta)) - u[0]*np.sin(theta)])\n",
    "    z = np.array([u[2]*u[0]*(1 - np.cos(theta)) - u[1]*np.sin(theta), u[2]*u[1]*(1 - np.cos(theta)) + u[0]*np.sin(theta), np.cos(theta) + u[2]*u[2]*(1 - np.cos(theta))])\n",
    "    R = np.array([x,y,z])\n",
    "    return np.dot(R, r)\n",
    "\n",
    "\n",
    "#Huella de la trayectoria\n",
    "#La siguiente funcion hace una particion de la trayectoria sobre s en n pedazos y regresa\n",
    "#una lista de los vectores de esas posiciones sobre la esfera.\n",
    "#Usa al operador de rotacion.\n",
    "\n",
    "def b_steps(ri,rf,n):\n",
    "    l = [ri]\n",
    "    r0 = ri\n",
    "    theta = np.arccos((np.dot(ri,rf))/((np.linalg.norm(ri))*(np.linalg.norm(rf))))\n",
    "    normal = np.cross(ri, rf)/ np.linalg.norm(np.cross(ri,rf))\n",
    "    for i in range(1,n + 1):\n",
    "        vi = rot_theta(r0, theta/n, normal)\n",
    "        l.append(vi)\n",
    "        r0 = vi\n",
    "    return l\n",
    "\n",
    "\n",
    "\n",
    "#Transformacion de coordenada de esfericas a cartesianas.\n",
    "\n",
    "\n",
    "def trans_s_c(r,theta, phi):\n",
    "    x = r*np.sin(theta)*np.cos(phi)\n",
    "    y = r*np.sin(theta)* np.sin(phi)\n",
    "    z = r*np.cos(theta)\n",
    "    return x, y, z\n",
    "\n",
    "\n",
    "#Transformacion de coordenadas de cartesianas a esfericas.\n",
    "\n",
    "def trans_c_s(x,y,z):\n",
    "    r = np.sqrt(x**2 + y**2 + z**2)\n",
    "    theta = np.arccos(z/r)\n",
    "    phi = np.arctan(y/x)\n",
    "    return r, theta, phi\n",
    "\n",
    "\n",
    "\n",
    "\n",
    "def r_uni(theta, phi):\n",
    "    x = np.sin(theta)*np.cos(phi)\n",
    "    y = np.cos(theta)*np.cos(phi)\n",
    "    z = np.cos(theta)\n",
    "    return np.array([x,y,z])\n",
    "def theta_uni(theta, phi):\n",
    "    x = np.cos(theta)*np.cos(phi)\n",
    "    y = np.cos(theta)*np.sin(phi)\n",
    "    z = -np.sin(theta)\n",
    "    return np.array([x,y,z])\n",
    "def phi_uni(theta, phi):\n",
    "    x = -np.sin(theta)\n",
    "    y = np.cos(phi)\n",
    "    z = 0\n",
    "    return np.array([x,y,z])\n",
    "\n",
    "\n",
    "\n",
    "def collision_update(lista_vect, r_omega, theta_omega):\n",
    "    for v in lista_vect:\n",
    "        #angulo = np.arccos(np.dot(v,r_omega)/(np.linalg.norm(v)*np.linalg.norm(r_omega)))\n",
    "        #print angulo, theta_omega\n",
    "        tamanho = (R**2)*np.cos(theta_omega)\n",
    "        if np.dot(v,r_omega) >= tamanho:\n",
    "            print 'Choco el mother fucker'\n",
    "            rp = v\n",
    "            np_prima = np.cross(np.cross(r_omega, rp), rp)\n",
    "            nor_p = np_prima/np.linalg.norm(np_prima)\n",
    "            up_prima = np.cross(np.cross(lista_vect[0], lista_vect[-1]), rp)\n",
    "            up = up_prima/np.linalg.norm(up_prima)\n",
    "            tp_prima = np.cross(rp, nor_p)\n",
    "            tp = tp_prima/np.linalg.norm(tp_prima)\n",
    "            x = (np.dot(up,tp))*tp - (np.dot(up, nor_p))*nor_p\n",
    "            v_rot_prima = np.cross(rp, x)\n",
    "            v_rot = v_rot_prima/np.linalg.norm(v_rot_prima)\n",
    "            ang_dif = np.arccos(np.dot(v,lista_vect[-1])/(np.linalg.norm(v)*np.linalg.norm(lista_vect[-1])))\n",
    "            posicion_final = rot_theta(rp, ang_dif, v_rot)\n",
    "            return v, posicion_final\n",
    "        else:\n",
    "            continue\n",
    "    print 'no choco el mother fucker'\n",
    "    return lista_vect[0], lista_vect[-1]\n",
    "def nombre(s):\n",
    "    diferencia = 4 - len(str(s))\n",
    "    ceros = '' \n",
    "    for i in range(diferencia):\n",
    "        ceros = ceros + '0'\n",
    "    variable = ceros + str(s)\n",
    "    return variable\n",
    "\n",
    "#Varianza para una distribucion bigaussiana; difusion en 2D\n",
    "def var(D, delta_t):\n",
    "    return 4*D*delta_t\n",
    "\n",
    "\n",
    "#Arco de circulo maximo con distribucion normal alrededor de cero y una varianza dada por\n",
    "\n",
    "def ese(D,delta_t):\n",
    "    return abs(np.random.normal(loc = 0., scale = np.sqrt(var(D,delta_t)),size = None))\n",
    "\n",
    "\n",
    "\n",
    "\n",
    "#Definimos las condiciones inciales\n",
    "\n",
    "# R es el radio de la esfera\n",
    "\n",
    "R=1\n",
    "def exit_time(R):\n",
    "    t0 = 0\n",
    "    x0 = np.array([0,0,R])\n",
    "    x = x0\n",
    "    t = t0\n",
    "    for i in range(550):\n",
    "        t = t + 25e-6\n",
    "        x = actualiza(x,ese())\n",
    "        #plot_particle(x,i)\n",
    "        theta_x = np.arccos(x[2]/R)\n",
    "        if theta_R < theta_x:\n",
    "            return  t\n",
    "        else:\n",
    "            continue\n",
    "    return 'no salio de la region'\n",
    "\n",
    "\n",
    "#R = 1\n",
    "#D = 1\n",
    "#dt = (np.pi**2)/4\n",
    "origen = polo_n(10000,R)\n",
    "promedio_theta_en_t = [0]\n",
    "promedio_phi_en_t = [0]\n",
    "promedio_cos_theta = [np.cos(0)]\n",
    "var_theta_en_t = [0]\n",
    "var_phi_en_t = [0]\n",
    "posicion_vec = origen\n",
    "t_final = 1000\n",
    "\n",
    "for i in range(t_final):\n",
    "    nuevos_vec = act_n(posicion_vec, ese(D,dt))\n",
    "    thetas = []\n",
    "    phis = []\n",
    "    thetas_al_2 = []\n",
    "    phis_al_2 = []\n",
    "    for v in nuevos_vec:\n",
    "        theta = np.arccos(v[2]/R)\n",
    "        phi = np.arctan(v[1]/v[2])\n",
    "        thetas.append(theta)\n",
    "        phis.append(phi)\n",
    "        thetas_al_2.append(theta**2)\n",
    "        phis_al_2.append(phi**2)\n",
    "    \n",
    "    #Aqui vamos a salvar una instantanea de cada uno de los histogramas\n",
    "    #de theta\n",
    "    #plt.hist(thetas, 100, color = 'g', normed=True)\n",
    "    #plt.xlabel(r\"$\\theta$\", fontsize = 15)\n",
    "    #plt.xlim(0,np.pi)\n",
    "    #plt.ylabel(\"Frecuencia\", fontsize = 15)\n",
    "    #plt.ylim(0,1)\n",
    "    #plt.title(\"Paso = {}\".format(i), fontsize = 15)\n",
    "    #plt.savefig('Histograma_theta_{}'.format(nombre(i)))\n",
    "    #plt.close()\n",
    "    mean_cos_theta = np.mean(np.cos(thetas))\n",
    "    mean_theta = np.mean(thetas)\n",
    "    mean_phi = np.mean(phis)\n",
    "    mean_theta_cuad = np.mean(thetas_al_2)\n",
    "    mean_phi_cuad = np.mean(phis_al_2)\n",
    "    var_theta_en_t.append(mean_theta_cuad - mean_theta**2)\n",
    "    var_phi_en_t.append(mean_phi_cuad - mean_phi**2)\n",
    "    promedio_theta_en_t.append(mean_theta)\n",
    "    promedio_phi_en_t.append(mean_phi)\n",
    "    posicion_vec = nuevos_vec\n",
    "    promedio_cos_theta.append(mean_cos_theta)\n"
   ]
  },
  {
   "cell_type": "code",
   "execution_count": null,
   "metadata": {
    "collapsed": true
   },
   "outputs": [],
   "source": []
  },
  {
   "cell_type": "code",
   "execution_count": null,
   "metadata": {
    "collapsed": true
   },
   "outputs": [],
   "source": []
  },
  {
   "cell_type": "code",
   "execution_count": 19,
   "metadata": {
    "collapsed": false
   },
   "outputs": [
    {
     "name": "stdout",
     "output_type": "stream",
     "text": [
      "/Users/adriano/Documents/Tesis_Maestria/Notebooks_ipy/Histograma_Thesis_theta_NO_02\r\n"
     ]
    }
   ],
   "source": [
    "!pwd"
   ]
  },
  {
   "cell_type": "code",
   "execution_count": 20,
   "metadata": {
    "collapsed": false
   },
   "outputs": [
    {
     "name": "stdout",
     "output_type": "stream",
     "text": [
      "MEncoder 1.1-4.2.1 (C) 2000-2012 MPlayer Team\n",
      "192 audio & 400 video codecs\n",
      "success: format: 16  data: 0x0 - 0x0\n",
      "MF file format detected.\n",
      "[mf] search expr: *.png\n",
      "[mf] number of files: 2000 (16000)\n",
      "[demux_mf] file type was not set! trying 'type=png'...\n",
      "VIDEO:  [MPNG]  0x0  24bpp  25.000 fps    0.0 kbps ( 0.0 kbyte/s)\n",
      "[V] filefmt:16  fourcc:0x474E504D  size:0x0  fps:25.000  ftime:=0.0400\n",
      "Input fps will be interpreted as 4.000 instead.\n",
      "libavcodec version 54.23.100 (internal)\n",
      "Opening video filter: [expand osd=1]\n",
      "Expand: -1 x -1, -1 ; -1, osd: 1, aspect: 0.000000, round: 1\n",
      "==========================================================================\n",
      "Opening video decoder: [ffmpeg] FFmpeg's libavcodec codec family\n",
      "Selected video codec: [ffpng] vfm: ffmpeg (FFmpeg PNG)\n",
      "==========================================================================\n",
      "Could not find matching colorspace - retrying with -vf scale...\n",
      "Opening video filter: [scale]\n",
      "Movie-Aspect is undefined - no prescaling applied.\n",
      "[swscaler @ 0x10cc84e90]BICUBIC scaler, from rgba to yuv420p using MMX2\n",
      "videocodec: libavcodec (432x288 fourcc=3234504d [MP42])\n",
      "[VE_LAVC] High quality encoding selected (non-realtime)!\n",
      "Writing header...\n",
      "ODML: vprp aspect is 16384:10922.\n",
      "Writing header...\n",
      "ODML: vprp aspect is 16384:10922.\n",
      "Pos: 500.0s   2000f (100%) 49.28fps Trem:   0min  14mb  A-V:0.000 [249:0]\n",
      "\n",
      "Skipping frame!\n",
      "Pos: 500.0s   2001f (100%) 49.31fps Trem:   0min  14mb  A-V:0.000 [249:0]\n",
      "\n",
      "Flushing video frames.\n",
      "Writing index...\n",
      "Writing header...\n",
      "ODML: vprp aspect is 16384:10922.\n",
      "\n",
      "Video stream:  249.559 kbit/s  (31194 B/s)  size: 15597420 bytes  500.000 secs  2001 frames\n"
     ]
    }
   ],
   "source": [
    "!mencoder \"mf://*.png\" -o BS_Histograma_Thesis_01.avi -ovc lavc -lavcopts vcodec=msmpeg4v2:autoaspect:vbitrate=2160000:mbd=2:keyint=132:vqblur=1.0:cmp=2:subcmp=2:dia=2:mv0:last_pred=3 -fps 4"
   ]
  },
  {
   "cell_type": "code",
   "execution_count": null,
   "metadata": {
    "collapsed": true
   },
   "outputs": [],
   "source": []
  },
  {
   "cell_type": "code",
   "execution_count": null,
   "metadata": {
    "collapsed": true
   },
   "outputs": [],
   "source": []
  }
 ],
 "metadata": {
  "kernelspec": {
   "display_name": "Python 2",
   "language": "python",
   "name": "python2"
  },
  "language_info": {
   "codemirror_mode": {
    "name": "ipython",
    "version": 2
   },
   "file_extension": ".py",
   "mimetype": "text/x-python",
   "name": "python",
   "nbconvert_exporter": "python",
   "pygments_lexer": "ipython2",
   "version": "2.7.10"
  }
 },
 "nbformat": 4,
 "nbformat_minor": 0
}
