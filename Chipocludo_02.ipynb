{
 "cells": [
  {
   "cell_type": "code",
   "execution_count": 1,
   "metadata": {
    "collapsed": true
   },
   "outputs": [],
   "source": [
    "import numpy as np\n",
    "from matplotlib import pyplot as plt\n",
    "%matplotlib inline"
   ]
  },
  {
   "cell_type": "code",
   "execution_count": 30,
   "metadata": {
    "collapsed": true
   },
   "outputs": [],
   "source": [
    "# %load Multiple_Coll_01.py\n",
    "import numpy as np\n",
    "from matplotlib import pyplot as plt\n",
    "def orto(x):\n",
    "    if np.dot(x,x) == 0:\n",
    "        return 'No se puede: ese es el vector cero!'\n",
    "    else:\n",
    "        if 0 not in x:\n",
    "            v1 = 1\n",
    "            v2 = -(x[0]/x[1])\n",
    "            v3 = 0\n",
    "            #return np.array([v1,v2,v3])\n",
    "        else:\n",
    "            if x[0] == 0:\n",
    "                if x[1] == 0:\n",
    "                    v1 = 1\n",
    "                    v2 = 0\n",
    "                    v3 = 0\n",
    "                else:\n",
    "                    v1 = 0\n",
    "                    v2 = 0\n",
    "                    v3 = 1\n",
    "            elif x[1] == 0:\n",
    "                v1 = 0\n",
    "                v2 = 1\n",
    "                v3 = 0\n",
    "            else:\n",
    "                v1 = 0\n",
    "                v2 = 0\n",
    "                v3 = 1\n",
    "        return np.array([v1,v2,v3])\n",
    "    \n",
    "#Funcion que regresa dos vectores; numpy arrays de 3D, ortogonales al vector de input x.\n",
    "#Esto es, devuelven la base al espacio ortogonal definido por el vector x de entrada.\n",
    "#@jit\n",
    "def base_ort_nor(x):\n",
    "    y = orto(x)\n",
    "    v1 = y/np.linalg.norm(y)\n",
    "    z = np.cross(x,v1)\n",
    "    v2 = z/np.linalg.norm(z)\n",
    "    return v1, v2\n",
    "\n",
    "\n",
    "#Esta funcion genera un vector con distrubucion uniforme en las direcciones sobre un plano tangente a la esfera de radio R.\n",
    "#@jit\n",
    "def vector_des(v1,v2):\n",
    "    na = 2*np.pi*np.random.rand()\n",
    "    vn = v1*np.cos(na) + v2*np.sin(na)\n",
    "    return vn/np.linalg.norm(vn)\n",
    "\n",
    "R = 1\n",
    "\n",
    "#Normalizamos al vector de desplazamiento para que intersecte al vector de la nueva posicion de acuerdo con que el\n",
    "#desplazamiento (s) sobre la esfera, sobre este arco de circulo maximo, sea el determinado por el movimiento browniano particular.\n",
    "#@jit\n",
    "def vector_q(x,s):\n",
    "    q = (R)*np.tan(s/(R))\n",
    "    return q*x\n",
    "\n",
    "#Dados todos los datos anteriores, esta funcion actualiza la posicion de la particula.\n",
    "#Lo que hace es que la mueve sobre el plano tangente a la esfera en la direccion predeterminada de tal suerte que el desplazamiento efectivo\n",
    "#s sobre una geodesica de la esfera, se el deseado, y posteriormente la proyecta sobre la superficie de la esfera.\n",
    "#@jit\n",
    "def nuevo_r(r, vector_q):\n",
    "    y = r + vector_q\n",
    "    y = y/np.linalg.norm(y)\n",
    "    return (R)*y\n",
    "\n",
    "#Esta funcion ensambla todo lo anterior: como imput necesita una posicion inicial y un arco de desplazamiento\n",
    "#Como output da un vector de posicion nuevo dada un tipo de desplazamiento.\n",
    "#@jit\n",
    "def actualiza(r,s):\n",
    "    v1, v2 = base_ort_nor(r)\n",
    "    pre_q = vector_des(v1,v2)\n",
    "    q = vector_q(pre_q, s)\n",
    "    return nuevo_r(r, q)\n",
    "\n",
    "\n",
    "#Esta funcion actualiza la posicion de todos los elementos de una lista; particula brownianas.\n",
    "#@jit\n",
    "#def act_n(lista,s):\n",
    "#    l = []\n",
    "#    for v in lista:\n",
    "#        l.append(actualiza(v,s))\n",
    "#    return l\n",
    "\n",
    "\n",
    "def act_n(lista, D, delta_t):\n",
    "    l = []\n",
    "    for v in lista:\n",
    "        s = ese(D,delta_t)\n",
    "        l.append(actualiza(v,s))\n",
    "    return l\n",
    "\n",
    "\n",
    "\n",
    "#Huella de la trayectoria\n",
    "#La siguiente funcion hace una particion de la trayectoria sobre s en n pedazos y regresa\n",
    "#una lista de los vectores de esas posiciones sobre la esfera.\n",
    "#Usa al operador de rotacion.\n",
    "\n",
    "#@jit\n",
    "def b_steps_(ri,rf,n):\n",
    "    l = [ri]\n",
    "    r0 = ri\n",
    "    lamb = (np.dot(ri,rf))/((np.linalg.norm(ri))*(np.linalg.norm(rf)))\n",
    "    \n",
    "    if abs(lamb) > 1:\n",
    "        #print 'Is fucked up: there was a rounding '\n",
    "        if lamb < 0:\n",
    "            lamb = -1\n",
    "        else:\n",
    "            lamb = 1\n",
    "    \n",
    "    \n",
    "    \n",
    "    theta = np.arccos(lamb)\n",
    "    #if theta < 1e17:\n",
    "        #return l\n",
    "    if theta == 0:\n",
    "        return [ri,rf]\n",
    "    \n",
    "    else:\n",
    "\n",
    "        normal = np.cross(ri, rf)/ np.linalg.norm(np.cross(ri,rf))\n",
    "        for i in range(1,n + 1):\n",
    "            #vi = rot_theta(r0, theta/n, normal)\n",
    "            vi = rot_finita(r0, -normal, theta/n)\n",
    "            l.append(vi)\n",
    "            r0 = vi\n",
    "        return l\n",
    "\n",
    "\n",
    "#Operador de Rotacion\n",
    "#Depende de los parametros r, el vector o punto que queremos rotar; theta el angulo de rotacion; n el vector que define el eje de rotacion y el signo de rotacion.\n",
    "\n",
    "\n",
    "#@jit\n",
    "def rot_theta(r, theta, u):\n",
    "    x = np.array([np.cos(theta) + (u[0]*u[0])*(1 - np.cos(theta)), u[0]*u[1]*(1 - np.cos(theta)) - u[2]*np.sin(theta), u[0]*u[2]*(1 - np.cos(theta)) + u[1]*np.sin(theta)])\n",
    "    y = np.array([u[1]*u[0]*(1 - np.cos(theta)) + u[2]*np.sin(theta), np.cos(theta) + u[1]*u[1]*(1 - np.cos(theta)), u[1]*u[2]*(1 - np.cos(theta)) - u[0]*np.sin(theta)])\n",
    "    z = np.array([u[2]*u[0]*(1 - np.cos(theta)) - u[1]*np.sin(theta), u[2]*u[1]*(1 - np.cos(theta)) + u[0]*np.sin(theta), np.cos(theta) + u[2]*u[2]*(1 - np.cos(theta))])\n",
    "    R = np.array([x,y,z])\n",
    "    return np.dot(R, r)\n",
    "\n",
    "\n",
    "\n",
    "#Transformacion de coordenada de esfericas a cartesianas.\n",
    "\n",
    "#@jit\n",
    "def trans_s_c(r,theta, phi):\n",
    "    x = r*np.sin(theta)*np.cos(phi)\n",
    "    y = r*np.sin(theta)* np.sin(phi)\n",
    "    z = r*np.cos(theta)\n",
    "    return x, y, z\n",
    "\n",
    "\n",
    "#Transformacion de coordenadas de cartesianas a esfericas.\n",
    "#@jit\n",
    "def trans_c_s(x,y,z):\n",
    "    r = np.sqrt(x**2 + y**2 + z**2)\n",
    "    #print r\n",
    "    cociente = z/r\n",
    "    if abs(cociente) > 1:\n",
    "        if cociente < 0:\n",
    "            theta = np.arccos(-1)\n",
    "        else:\n",
    "            theta = np.arccos(1)\n",
    "    else:\n",
    "        \n",
    "        theta = np.arccos(z/r)\n",
    "    if x == 0:\n",
    "        if y == 0:\n",
    "            phi = 2*np.pi*np.random.rand()\n",
    "        else:\n",
    "            if y < 0:\n",
    "                phi = 2*np.pi/2\n",
    "            else:\n",
    "                phi = np.pi/2\n",
    "    else:\n",
    "        phi = np.arctan(y/x)\n",
    "    return r, theta, phi\n",
    "\n",
    "\n",
    "\n",
    "#@jit\n",
    "def r_uni(theta, phi):\n",
    "    x = np.sin(theta)*np.cos(phi)\n",
    "    y = np.cos(theta)*np.cos(phi)\n",
    "    z = np.cos(theta)\n",
    "    return np.array([x,y,z])\n",
    "#@jit\n",
    "def theta_uni(theta, phi):\n",
    "    x = np.cos(theta)*np.cos(phi)\n",
    "    y = np.cos(theta)*np.sin(phi)\n",
    "    z = -np.sin(theta)\n",
    "    return np.array([x,y,z])\n",
    "#@jit\n",
    "def phi_uni(theta, phi):\n",
    "    x = -np.sin(phi)\n",
    "    y = np.cos(phi)\n",
    "    z = 0\n",
    "    return np.array([x,y,z])\n",
    "\n",
    "#@jit\n",
    "def nombre(s):\n",
    "    diferencia = 4 - len(str(s))\n",
    "    ceros = '' \n",
    "    for i in range(diferencia):\n",
    "        ceros = ceros + '0'\n",
    "    variable = ceros + str(s)\n",
    "    return variable\n",
    "\n",
    "#Varianza para una distribucion bigaussiana; difusion en 2D\n",
    "#@jit\n",
    "def var(D, delta_t):\n",
    "    return 4*D*delta_t\n",
    "\n",
    "\n",
    "#Arco de circulo maximo con distribucion normal alrededor de cero y una varianza dada por\n",
    "#@jit\n",
    "def ese(D,delta_t):\n",
    "    return abs(np.random.normal(loc = 0., scale = np.sqrt(var(D,delta_t)),size = None))\n",
    "\n",
    "#Funcion de rotacion finita\n",
    "#@jit\n",
    "def rot_finita(r_ini, N, Phi):\n",
    "    n = N/np.linalg.norm(N)\n",
    "    r_fin = np.cos(Phi)*r_ini + (np.dot(n,r_ini))*(1 - np.cos(Phi))*n + (np.sin(Phi))*(np.cross(r_ini,n))\n",
    "    return r_fin\n",
    "\n",
    "\n",
    "#Funcion que regresa una lista de n numpy arrays que son l\n",
    "def Trayectoria(ri,rf,n):\n",
    "    l = [ri]\n",
    "    r0 = ri\n",
    "    theta = np.arccos((np.dot(ri,rf))/((np.linalg.norm(ri))*(np.linalg.norm(rf))))\n",
    "    N = np.cross(ri, rf)\n",
    "    \n",
    "    for i in range(1,n + 1):\n",
    "        vi = rot_finita(r0, N, theta/n)\n",
    "        l.append(vi)\n",
    "        r0 = vi\n",
    "    return l\n",
    "\n",
    "#Collision_check es una función que, dada una trayectoria: una lista de vectores que\n",
    "#pasan por puntos sucesivos de la trayectoria, verifica si alguna de estas posiciones\n",
    "#interesecto a alguno de los obstáculos. En caso de que así sea, actualiza conforme una\n",
    "#colision elastica. En caso de no intersectar a ningun obstaculo regresa una lista\n",
    "#con dos vectores: posicion inicial y posicion final en ese orden.\n",
    "#@jit\n",
    "def penetrate_obs(lista_vect, lista_obs, size):\n",
    "    metiches = []\n",
    "    for obs in lista_obs:\n",
    "        theta_omega = size\n",
    "        r_omega = obs\n",
    "        frontera = .2\n",
    "        #metiches = []\n",
    "        for v in lista_vect:\n",
    "            tamanho = np.cos(theta_omega - frontera)\n",
    "            if np.dot(v,r_omega) > tamanho:\n",
    "                print 'Penetro el mother fucker obstacle'\n",
    "                metiches.append(v)\n",
    "                \n",
    "            else:\n",
    "                continue\n",
    "    #print 'no choco el mother fucker'\n",
    "    #valor = False\n",
    "    return metiches\n",
    "\n",
    "\n",
    "#Esta funcion cuando es llamada grafia la posicion de las partoculas brownianas.\n",
    "#sobre la superficie de una esfera sobre la que se esta difundiendo.\n",
    "#@jit\n",
    "def plot_particles(lista, vpolar, vazim, numero):\n",
    "    from mpl_toolkits.mplot3d import axes3d\n",
    "    from mpl_toolkits.mplot3d import Axes3D\n",
    "    from matplotlib import cm\n",
    "\n",
    "    #import matplotlib.pyplot as plt\n",
    "    #import numpy as np\n",
    "    from itertools import product, combinations\n",
    "    fig = plt.figure(figsize=(10,10))\n",
    "    ax = fig.gca(projection='3d')\n",
    "    ax.set_aspect(\"equal\")\n",
    "    ax._axis3don = False\n",
    "\n",
    "    \n",
    "\n",
    "\n",
    "\n",
    "    #draw sphere\n",
    "    R = 1\n",
    "    u, v = np.mgrid[0:2*np.pi:50j, 0:np.pi:50j]\n",
    "    x=R*np.cos(u)*np.sin(v)\n",
    "    y=R*np.sin(u)*np.sin(v)\n",
    "    z=R*np.cos(v)\n",
    "    #ax.plot_surface(x, y, z, color=\"r\", alpha = 0.15)\n",
    "\n",
    "    ax.plot_surface(x, y, z, cmap=cm.YlGnBu_r,rstride=1, cstride=1, alpha = 0.10, linewidth = 0.15)\n",
    "    ax.view_init(vpolar, vazim)\n",
    "    \n",
    "    \n",
    "    #draw an arrow or a set of arrow\n",
    "    ax.quiver(0,0,1.5,0,0,1, length=0.5, arrow_length_ratio = .5)\n",
    "    #draw patch\n",
    "    #u, v = np.mgrid[0:2*np.pi:50j, 0:(np.pi/7):50j]\n",
    "    #x=R*np.cos(u)*np.sin(v)\n",
    "    #y=R*np.sin(u)*np.sin(v)\n",
    "    #z=R*np.cos(v)\n",
    "    #ax.plot_surface(x, y, z, color=\"r\", alpha = 0.25)    \n",
    "    \n",
    "    #draw points\n",
    "    for p in lista:\n",
    "        ax.scatter([p[0]],[p[1]],[p[2]],color=\"b\",s=25, alpha = 0.6)\n",
    "    \n",
    "    #fig.savefig('Obs_Dist_0_Images{}.png'.format(nombre(numero)))\n",
    "    #ax.view_init(80, 30)\n",
    "    plt.show()\n",
    "    #plt.close()\n",
    "\n",
    "    \n",
    "    \n",
    "#@jit\n",
    "def polo_n(n, R):\n",
    "    l = []\n",
    "    for i in range(n):\n",
    "        l.append(np.array([0,0,R]))\n",
    "    return l\n",
    "\n",
    "#@jit\n",
    "def particion_esfera(ccero, Nphi):\n",
    "    Ntheta = int(4*np.pi/(ccero*Nphi))\n",
    "    print 'Ntheta', Ntheta, 'Nphi', Nphi, 'Ntheta*Nphi', Ntheta*Nphi\n",
    "    sigmaPhi = 2*np.pi/Nphi\n",
    "    deltaphi = 2*np.pi/Nphi\n",
    "    thetas = []\n",
    "    phis = [0]\n",
    "    cociente = ccero/sigmaPhi\n",
    "    for i in range(Ntheta + 1):\n",
    "        theta = np.arccos(1 - (i)*cociente)\n",
    "        thetas.append(theta)\n",
    "    for j in range(Nphi):\n",
    "        phis.append(phis[j] + deltaphi)\n",
    "    return thetas, phis\n",
    "\n",
    "#@jit\n",
    "def secuencia_part(tamini, Nfi, numero):\n",
    "    l1, l2 = particion_esfera(4*np.pi/tamini, Nfi)\n",
    "    particion = []\n",
    "    for i in range(len(l2)):\n",
    "        for j in range(len(l1)):\n",
    "            x, y, z = trans_s_c(1, l1[j], l2[i])\n",
    "            particion.append(np.array([x, y, z]))\n",
    "            \n",
    "    return plot_particles(particion, 45, 45, numero)\n",
    "\n",
    "#Funcion que regresa las coordenadas del centro de dos arreglos para \n",
    "#las coordenadas theta y phi\n",
    "#@jit\n",
    "def coordenadas_centro(l1,l2):\n",
    "    thetas_centro = []\n",
    "    phis_centro = []\n",
    "    for i in range(len(l1) - 1):\n",
    "        theta_media = l1[i] + (l1[i + 1] - l1[i])/2.\n",
    "        thetas_centro.append(theta_media)\n",
    "    for j in range(len(l2) - 1):\n",
    "        phi_media = l2[j] + (l2[j + 1] - l2[j])/2.\n",
    "        phis_centro.append(phi_media)\n",
    "    return thetas_centro, phis_centro\n",
    "\n",
    "#@jit(nopython=True)\n",
    "def secuencia_obs(N, Nfi, numero):\n",
    "    l1_prima, l2_prima = particion_esfera(4*np.pi/N, Nfi)\n",
    "    l1, l2 = coordenadas_centro(l1_prima, l2_prima)\n",
    "    particion = []\n",
    "    for i in range(len(l2)):\n",
    "        for j in range(len(l1)):\n",
    "            x, y, z = trans_s_c(1, l1[j], l2[i])\n",
    "            particion.append(np.array([x, y, z]))\n",
    "            \n",
    "    print len(particion)\n",
    "    \n",
    "    #return plot_particles(particion, 0, 0, numero)\n",
    "    return particion\n",
    "\n",
    "\n",
    "def plot_particle_traj_obs(lista_obstaculos, trayectoria,  vpolar, vazim, numero):\n",
    "    from mpl_toolkits.mplot3d import axes3d\n",
    "    from mpl_toolkits.mplot3d import Axes3D\n",
    "    from matplotlib import cm\n",
    "\n",
    "    #import matplotlib.pyplot as plt\n",
    "    #import numpy as np\n",
    "    from itertools import product, combinations\n",
    "    fig = plt.figure(figsize=(8,8))\n",
    "    ax = fig.gca(projection='3d')\n",
    "    ax.set_aspect(\"equal\")\n",
    "    ax._axis3don = False\n",
    "    ax.margins(.2,.2,.2)\n",
    "    \n",
    "\n",
    "    \n",
    "\n",
    "\n",
    "\n",
    "    #draw sphere\n",
    "    R = 1\n",
    "    u, v = np.mgrid[0:2*np.pi:50j, 0:np.pi:50j]\n",
    "    x=R*np.cos(u)*np.sin(v)\n",
    "    y=R*np.sin(u)*np.sin(v)\n",
    "    z=R*np.cos(v)\n",
    "    #ax.plot_surface(x, y, z, color=\"r\", alpha = 0.15)\n",
    "\n",
    "    ax.plot_surface(x, y, z, cmap=cm.YlGnBu_r,rstride=1, cstride=1, alpha = 0.10, linewidth = 0.15)\n",
    "    ax.view_init(vpolar, vazim)\n",
    "    #draw patch\n",
    "    #u, v = np.mgrid[0:2*np.pi:50j, 0:(np.pi/7):50j]\n",
    "    #x=R*np.cos(u)*np.sin(v)\n",
    "    #y=R*np.sin(u)*np.sin(v)\n",
    "    #z=R*np.cos(v)\n",
    "    #ax.plot_surface(x, y, z, color=\"r\", alpha = 0.25)\n",
    "    \n",
    "    \n",
    "    \n",
    "    #draw obstacles\n",
    "    \n",
    "    for p in lista_obstaculos:\n",
    "        ax.scatter([p[0]],[p[1]],[p[2]], color=\"b\", s=10, alpha = 0.2)\n",
    "    \n",
    "    #draw trajectory\n",
    "    for p in trayectoria:\n",
    "        ax.scatter([p[0]],[p[1]],[p[2]], color=\"k\",s=20, alpha = 0.7)\n",
    "    \n",
    "    #Plot the x positive direction\n",
    "    \n",
    "    #ax.quiver(1.5,0,0,1,0,0, length=0.5, arrow_length_ratio = .5)\n",
    "    #ax.quiver(0,1.5,0,0,1,0, length=0.5, arrow_length_ratio = .5)\n",
    "    #ax.quiver(0,0,1.5,0,0,1, length=0.5, arrow_length_ratio = .5)\n",
    "    \n",
    "    fig.savefig('OBSSIM02-{}.png'.format(nombre(numero)))\n",
    "    #ax.view_init(80, 30)\n",
    "    plt.close()\n",
    "    #plt.show()\n",
    "\n",
    "def obs_uniforme(N, R, size):\n",
    "    \n",
    "    list_obs = []\n",
    "    omega = np.cos(size)\n",
    "    while len(list_obs) < N:\n",
    "        x, y, z = np.random.uniform(-1,1), np.random.uniform(-1,1), np.random.uniform(-1,1)\n",
    "        v = np.array([x, y, z])\n",
    "        norma = np.linalg.norm(v)\n",
    "        if norma <= R:\n",
    "            n = v/norma\n",
    "            if not np.dot(n, np.array([0.,0.,1.]))/R > omega:\n",
    "                list_obs.append(R*n)\n",
    "    \n",
    "    return list_obs    \n",
    "\n",
    "\n",
    "def puntos_obs_j(r_omega, theta_omega, n):\n",
    "    r , theta, phi = trans_c_s(r_omega[0],r_omega[1],r_omega[2])\n",
    "    rp = rot_finita(r_omega, phi_uni(theta, phi), theta_omega)\n",
    "    puntos_obs_j = [rp]\n",
    "    for i in range(1,n):\n",
    "        x = rot_finita(rp, r_omega, 2*np.pi/n)\n",
    "        puntos_obs_j.append(x)\n",
    "        rp = x\n",
    "    return puntos_obs_j\n",
    "\n",
    "\n",
    "\n",
    "def puntos_obs(lista_obstaculos, size):\n",
    "    mis_obs = []\n",
    "    for i in range(len(lista_obstaculos)):\n",
    "        a = lista_obstaculos[i]\n",
    "        b = size\n",
    "        mis_obs = mis_obs + puntos_obs_j(a,b,16)\n",
    "    return mis_obs\n",
    "#Collision_check es una función que, dada una trayectoria: una lista de vectores que\n",
    "#pasan por puntos sucesivos de la trayectoria, verifica si alguna de estas posiciones\n",
    "#interesecto a alguno de los obstáculos. En caso de que así sea, actualiza conforme una\n",
    "#colision elastica. En caso de no intersectar a ningun obstaculo regresa una lista\n",
    "#con dos vectores: posicion inicial y posicion final en ese orden.\n",
    "\n",
    "def penetrate_obs(lista_vect, lista_obs, size):\n",
    "    metiches = []\n",
    "    for obs in lista_obs:\n",
    "        r_omega, theta_omega = obs, size\n",
    "        #frontera = .2\n",
    "        #metiches = []\n",
    "        for v in lista_vect:\n",
    "            tamanho = np.cos(theta_omega)\n",
    "            if np.dot(v,r_omega) >= tamanho:\n",
    "                #print 'Penetro el mother fucker obstacle'\n",
    "                metiches.append(v)\n",
    "                \n",
    "            else:\n",
    "                continue\n",
    "    #print 'no choco el mother fucker'\n",
    "    #valor = False\n",
    "    return metiches\n",
    "    \n",
    "\n",
    "def check_collision(lista_vect, lista_obs, size):\n",
    "    for obs in lista_obs:\n",
    "        r_omega, theta_omega = obs, size \n",
    "        for v in lista_vect:\n",
    "            tamanho = np.cos(theta_omega)\n",
    "            if np.dot(v,r_omega) > tamanho:\n",
    "                return  True\n",
    "            else:\n",
    "                continue\n",
    "    return False\n",
    "    \n"
   ]
  },
  {
   "cell_type": "code",
   "execution_count": 3,
   "metadata": {
    "collapsed": true
   },
   "outputs": [],
   "source": [
    "def tangent_space(x1,x2,xo):\n",
    "    np_prima = np.cross(np.cross(xo, x1), x1)\n",
    "    nor_p = np_prima/np.linalg.norm(np_prima)\n",
    "    up_prima = np.cross(np.cross(x1, x2), x1)\n",
    "    up = up_prima/np.linalg.norm(up_prima)\n",
    "    tp_prima = np.cross(x1, nor_p)\n",
    "    tp = tp_prima/np.linalg.norm(tp_prima)\n",
    "    y = (np.dot(up,tp))*tp - (np.dot(up, nor_p))*nor_p\n",
    "    v_rot_prima = np.cross(x1, y)\n",
    "    v_rot = v_rot_prima/np.linalg.norm(v_rot_prima)\n",
    "    return v_rot"
   ]
  },
  {
   "cell_type": "code",
   "execution_count": 4,
   "metadata": {
    "collapsed": true
   },
   "outputs": [],
   "source": [
    "def compute_all(lista_vec):\n",
    "    thetas = []\n",
    "    phis = []\n",
    "    thetaphis = []\n",
    "    cos_thetas = [] \n",
    "    \n",
    "    for v in lista_vec:\n",
    "        r, theta, phi = trans_c_s(v[0],v[1],v[2])\n",
    "        thetas.append(theta)\n",
    "        phis.append(phi)\n",
    "        thetaphis.append(theta*phi)\n",
    "        cos_thetas.append(np.cos(theta))\n",
    "    \n",
    "    mean_theta, mean_phi = np.mean(thetas), np.mean(phis)\n",
    "    \n",
    "    var_theta, var_phi = np.var(thetas), np.var(phis)\n",
    "    \n",
    "    mean_theta_phi = np.mean(thetaphis)\n",
    "    \n",
    "    mean_cos_theta = np.mean(cos_thetas)\n",
    "    \n",
    "    mean_cos_theta_2 = mean_cos_theta**2\n",
    "    \n",
    "    return thetas, phis, mean_theta, mean_phi, var_theta, var_phi, mean_theta_phi, mean_cos_theta, mean_cos_theta_2"
   ]
  },
  {
   "cell_type": "code",
   "execution_count": null,
   "metadata": {
    "collapsed": true
   },
   "outputs": [],
   "source": []
  },
  {
   "cell_type": "code",
   "execution_count": null,
   "metadata": {
    "collapsed": true
   },
   "outputs": [],
   "source": []
  },
  {
   "cell_type": "code",
   "execution_count": 5,
   "metadata": {
    "collapsed": true
   },
   "outputs": [],
   "source": [
    "def simulacion_obs(lista_obs, estructura, size_obs, initial_cond, sim_size, sensitiveness, D, delta_t):\n",
    "    to_update = initial_cond\n",
    "    #thetas_t = [0]\n",
    "    #phis_t = [0]\n",
    "    #m_theta_t = [0]\n",
    "    #m_phi_t = [0]\n",
    "    #v_theta_t = [0]\n",
    "    #v_phi_t = [0]\n",
    "    #cov_theta_phi_t = [0]\n",
    "    #m_cos_theta_t = [1]\n",
    "    #m_cos_theta_2_t = [1]\n",
    "    plot_particle_traj_obs(estructura, to_update, 0,0,0)\n",
    "    for i in range(sim_size):\n",
    "        tentative_paths = []\n",
    "        updated_pos_at_t = []\n",
    "        tentative_pos = act_n(to_update, D, delta_t)\n",
    "        for j in range(len(tentative_pos)):\n",
    "            tentative_paths.append(b_steps_(to_update[j], tentative_pos[j], sensitiveness))\n",
    "        \n",
    "        for path in tentative_paths:\n",
    "            if check_collision(path, lista_obs, size_obs):\n",
    "                for k in range(1,len(path)):\n",
    "                    if check_collision([path[k]], lista_obs, size_obs):\n",
    "                        updated_pos_at_t.append(path[k-1])\n",
    "                        break\n",
    "            else:\n",
    "                updated_pos_at_t.append(path[-1])\n",
    "        \n",
    "        plot_particle_traj_obs(estructura, updated_pos_at_t, 0,0,i + 1)\n",
    "        #thetas, phis, mean_theta, mean_phi, var_theta, var_phi, mean_theta_phi, mean_cos_theta, mean_cos_theta_2 = compute_all(updated_pos_at_t)\n",
    "        #thetas_t.append(thetas)\n",
    "        #phis_t.append(phis)\n",
    "        #m_theta_t.append(mean_theta)\n",
    "        #m_phi_t.append(mean_phi)\n",
    "        #v_theta_t.append(var_theta)\n",
    "        #v_phi_t.append(var_phi)\n",
    "        #cov_theta_phi_t.append(mean_theta_phi - mean_theta*mean_phi)\n",
    "        #m_cos_theta_t.append(mean_cos_theta)\n",
    "        #m_cos_theta_2_t.append(mean_cos_theta_2)\n",
    "        \n",
    "        \n",
    "        #print penetrate_obs(updated_pos_at_t, lista_obs , size_obs)\n",
    "        to_update = updated_pos_at_t\n",
    "    #return thetas_t, phis_t, m_theta_t, m_phi_t, v_theta_t, v_phi_t, cov_theta_phi_t, m_cos_theta_t\n",
    "\n"
   ]
  },
  {
   "cell_type": "code",
   "execution_count": null,
   "metadata": {
    "collapsed": true
   },
   "outputs": [],
   "source": []
  },
  {
   "cell_type": "markdown",
   "metadata": {
    "collapsed": true
   },
   "source": [
    "### Para el ajuste o regresión lineal"
   ]
  },
  {
   "cell_type": "code",
   "execution_count": null,
   "metadata": {
    "collapsed": true
   },
   "outputs": [],
   "source": [
    "A = np.vstack((tiempos, np.ones(len(tiempos)))).T\n",
    "m, c = np.linalg.lstsq(A, np.log(np.array(promedio_cos_theta)))[0]\n",
    "print m, c"
   ]
  },
  {
   "cell_type": "code",
   "execution_count": null,
   "metadata": {
    "collapsed": true
   },
   "outputs": [],
   "source": []
  },
  {
   "cell_type": "code",
   "execution_count": null,
   "metadata": {
    "collapsed": true
   },
   "outputs": [],
   "source": []
  },
  {
   "cell_type": "code",
   "execution_count": null,
   "metadata": {
    "collapsed": true
   },
   "outputs": [],
   "source": [
    "def compute_all_D(lista_vec):\n",
    "    thetas = []\n",
    "    #phis = []\n",
    "    #thetaphis = []\n",
    "    cos_thetas = [] \n",
    "    \n",
    "    for v in lista_vec:\n",
    "        r, theta, phi = trans_c_s(v[0],v[1],v[2])\n",
    "        thetas.append(theta)\n",
    "        #phis.append(phi)\n",
    "        #thetaphis.append(theta*phi)\n",
    "        cos_thetas.append(np.cos(theta))\n",
    "    \n",
    "    mean_theta = np.mean(thetas)\n",
    "    \n",
    "    var_theta = np.var(thetas)\n",
    "    \n",
    "    #mean_theta_phi = np.mean(thetaphis)\n",
    "    \n",
    "    mean_cos_theta = np.mean(cos_thetas)\n",
    "    \n",
    "    mean_cos_theta_2 = mean_cos_theta**2\n",
    "    \n",
    "    return thetas, mean_theta, var_theta, mean_cos_theta, mean_cos_theta_2"
   ]
  },
  {
   "cell_type": "code",
   "execution_count": null,
   "metadata": {
    "collapsed": true
   },
   "outputs": [],
   "source": []
  },
  {
   "cell_type": "code",
   "execution_count": null,
   "metadata": {
    "collapsed": true
   },
   "outputs": [],
   "source": [
    "def simulacion_obs_D(lista_obs, estructura, size_obs, initial_cond, sim_size, sensitiveness, D, delta_t):\n",
    "    to_update = initial_cond\n",
    "    thetas_t = []\n",
    "    #phis_t = [0]\n",
    "    m_theta_t = []\n",
    "    #m_phi_t = [0]\n",
    "    v_theta_t = []\n",
    "    #v_phi_t = [0]\n",
    "    #cov_theta_phi_t = [0]\n",
    "    m_cos_theta_t = [1]\n",
    "    m_cos_theta_2_t = [1]\n",
    "    #plot_particle_traj_obs(estructura, to_update, 90,0,0)\n",
    "    for i in range(sim_size):\n",
    "        tentative_paths = []\n",
    "        updated_pos_at_t = []\n",
    "        tentative_pos = act_n(to_update, D, delta_t)\n",
    "        for j in range(len(tentative_pos)):\n",
    "            tentative_paths.append(b_steps_(to_update[j], tentative_pos[j], sensitiveness))\n",
    "        \n",
    "        for path in tentative_paths:\n",
    "            if check_collision(path, lista_obs, size_obs):\n",
    "                for k in range(1,len(path)):\n",
    "                    if check_collision([path[k]], lista_obs, size_obs):\n",
    "                        updated_pos_at_t.append(path[k-1])\n",
    "                        break\n",
    "            else:\n",
    "                updated_pos_at_t.append(path[-1])\n",
    "        \n",
    "        #plot_particle_traj_obs(estructura, updated_pos_at_t, 90,0,i + 1)\n",
    "        thetas, mean_theta, var_theta, mean_cos_theta, mean_cos_theta_2 = compute_all_D(updated_pos_at_t)\n",
    "        thetas_t.append(thetas)\n",
    "        #phis_t.append(phis)\n",
    "        m_theta_t.append(mean_theta)\n",
    "        #m_phi_t.append(mean_phi)\n",
    "        v_theta_t.append(var_theta)\n",
    "        #v_phi_t.append(var_phi)\n",
    "        #cov_theta_phi_t.append(mean_theta_phi - mean_theta*mean_phi)\n",
    "        m_cos_theta_t.append(mean_cos_theta)\n",
    "        m_cos_theta_2_t.append(mean_cos_theta_2)\n",
    "        \n",
    "        \n",
    "        #print penetrate_obs(updated_pos_at_t, lista_obs , size_obs)\n",
    "        to_update = updated_pos_at_t\n",
    "    return thetas_t, m_theta_t, v_theta_t, m_cos_theta_t, m_cos_theta_2_t\n",
    "\n",
    "\n"
   ]
  },
  {
   "cell_type": "code",
   "execution_count": 6,
   "metadata": {
    "collapsed": false
   },
   "outputs": [],
   "source": [
    "pos_ini = polo_n(2000,1)"
   ]
  },
  {
   "cell_type": "code",
   "execution_count": 35,
   "metadata": {
    "collapsed": true
   },
   "outputs": [],
   "source": [
    "mis_rs_obs = obs_uniforme(40,1,1.5)"
   ]
  },
  {
   "cell_type": "code",
   "execution_count": 36,
   "metadata": {
    "collapsed": true
   },
   "outputs": [],
   "source": [
    "estructura_obs = puntos_obs(mis_rs_obs, 0.5)"
   ]
  },
  {
   "cell_type": "code",
   "execution_count": 37,
   "metadata": {
    "collapsed": false
   },
   "outputs": [
    {
     "data": {
      "image/png": "[encoded data removed]",
      "text/plain": [
       "<matplotlib.figure.Figure at 0x108078110>"
      ]
     },
     "metadata": {},
     "output_type": "display_data"
    }
   ],
   "source": [
    "plot_particles(estructura_obs, 0, 0, 0)"
   ]
  },
  {
   "cell_type": "code",
   "execution_count": 20,
   "metadata": {
    "collapsed": false
   },
   "outputs": [
    {
     "name": "stdout",
     "output_type": "stream",
     "text": [
      "/Users/ayano/Documents/Simulaciones/Foreign_Notebooks\n"
     ]
    }
   ],
   "source": [
    "%cd .."
   ]
  },
  {
   "cell_type": "code",
   "execution_count": 16,
   "metadata": {
    "collapsed": false
   },
   "outputs": [
    {
     "name": "stdout",
     "output_type": "stream",
     "text": [
      "/Users/ayano/Documents/Simulaciones/Foreign_Notebooks\r\n"
     ]
    }
   ],
   "source": [
    "!PWD"
   ]
  },
  {
   "cell_type": "code",
   "execution_count": 17,
   "metadata": {
    "collapsed": true
   },
   "outputs": [],
   "source": [
    "!mkdir OBSSIM03"
   ]
  },
  {
   "cell_type": "code",
   "execution_count": 18,
   "metadata": {
    "collapsed": false
   },
   "outputs": [
    {
     "name": "stdout",
     "output_type": "stream",
     "text": [
      "/Users/ayano/Documents/Simulaciones/Foreign_Notebooks/OBSSIM03\n"
     ]
    }
   ],
   "source": [
    "%cd OBSSIM03/"
   ]
  },
  {
   "cell_type": "code",
   "execution_count": null,
   "metadata": {
    "collapsed": true
   },
   "outputs": [],
   "source": []
  },
  {
   "cell_type": "code",
   "execution_count": null,
   "metadata": {
    "collapsed": true
   },
   "outputs": [],
   "source": []
  },
  {
   "cell_type": "code",
   "execution_count": 19,
   "metadata": {
    "collapsed": true
   },
   "outputs": [
    {
     "ename": "KeyboardInterrupt",
     "evalue": "",
     "output_type": "error",
     "traceback": [
      "\u001b[0;31m---------------------------------------------------------------------------\u001b[0m",
      "\u001b[0;31mKeyboardInterrupt\u001b[0m                         Traceback (most recent call last)",
      "\u001b[0;32m<ipython-input-19-2f942d2d29bd>\u001b[0m in \u001b[0;36m<module>\u001b[0;34m()\u001b[0m\n\u001b[0;32m----> 1\u001b[0;31m \u001b[0mv1\u001b[0m\u001b[0;34m,\u001b[0m\u001b[0mv2\u001b[0m\u001b[0;34m,\u001b[0m\u001b[0mv3\u001b[0m\u001b[0;34m,\u001b[0m\u001b[0mv4\u001b[0m\u001b[0;34m,\u001b[0m\u001b[0mv5\u001b[0m\u001b[0;34m,\u001b[0m\u001b[0mv6\u001b[0m\u001b[0;34m,\u001b[0m\u001b[0mv7\u001b[0m\u001b[0;34m,\u001b[0m\u001b[0mv8\u001b[0m \u001b[0;34m=\u001b[0m \u001b[0msimulacion_obs\u001b[0m\u001b[0;34m(\u001b[0m\u001b[0mmis_rs_obs\u001b[0m\u001b[0;34m,\u001b[0m \u001b[0mestructura_obs\u001b[0m\u001b[0;34m,\u001b[0m\u001b[0;36m0.5\u001b[0m\u001b[0;34m,\u001b[0m \u001b[0mpos_ini\u001b[0m\u001b[0;34m,\u001b[0m \u001b[0;36m500\u001b[0m\u001b[0;34m,\u001b[0m\u001b[0;36m30\u001b[0m\u001b[0;34m,\u001b[0m \u001b[0;36m2\u001b[0m\u001b[0;34m,\u001b[0m \u001b[0;36m1e-3\u001b[0m\u001b[0;34m)\u001b[0m\u001b[0;34m\u001b[0m\u001b[0m\n\u001b[0m",
      "\u001b[0;32m<ipython-input-5-ea9091d37174>\u001b[0m in \u001b[0;36msimulacion_obs\u001b[0;34m(lista_obs, estructura, size_obs, initial_cond, sim_size, sensitiveness, D, delta_t)\u001b[0m\n\u001b[1;32m     27\u001b[0m                 \u001b[0mupdated_pos_at_t\u001b[0m\u001b[0;34m.\u001b[0m\u001b[0mappend\u001b[0m\u001b[0;34m(\u001b[0m\u001b[0mpath\u001b[0m\u001b[0;34m[\u001b[0m\u001b[0;34m-\u001b[0m\u001b[0;36m1\u001b[0m\u001b[0;34m]\u001b[0m\u001b[0;34m)\u001b[0m\u001b[0;34m\u001b[0m\u001b[0m\n\u001b[1;32m     28\u001b[0m \u001b[0;34m\u001b[0m\u001b[0m\n\u001b[0;32m---> 29\u001b[0;31m         \u001b[0mplot_particle_traj_obs\u001b[0m\u001b[0;34m(\u001b[0m\u001b[0mestructura\u001b[0m\u001b[0;34m,\u001b[0m \u001b[0mupdated_pos_at_t\u001b[0m\u001b[0;34m,\u001b[0m \u001b[0;36m90\u001b[0m\u001b[0;34m,\u001b[0m\u001b[0;36m0\u001b[0m\u001b[0;34m,\u001b[0m\u001b[0mi\u001b[0m \u001b[0;34m+\u001b[0m \u001b[0;36m1\u001b[0m\u001b[0;34m)\u001b[0m\u001b[0;34m\u001b[0m\u001b[0m\n\u001b[0m\u001b[1;32m     30\u001b[0m         \u001b[0;31m#thetas, phis, mean_theta, mean_phi, var_theta, var_phi, mean_theta_phi, mean_cos_theta, mean_cos_theta_2 = compute_all(updated_pos_at_t)\u001b[0m\u001b[0;34m\u001b[0m\u001b[0;34m\u001b[0m\u001b[0m\n\u001b[1;32m     31\u001b[0m         \u001b[0;31m#thetas_t.append(thetas)\u001b[0m\u001b[0;34m\u001b[0m\u001b[0;34m\u001b[0m\u001b[0m\n",
      "\u001b[0;32m<ipython-input-13-774fc35e168b>\u001b[0m in \u001b[0;36mplot_particle_traj_obs\u001b[0;34m(lista_obstaculos, trayectoria, vpolar, vazim, numero)\u001b[0m\n\u001b[1;32m    431\u001b[0m     \u001b[0;31m#draw trajectory\u001b[0m\u001b[0;34m\u001b[0m\u001b[0;34m\u001b[0m\u001b[0m\n\u001b[1;32m    432\u001b[0m     \u001b[0;32mfor\u001b[0m \u001b[0mp\u001b[0m \u001b[0;32min\u001b[0m \u001b[0mtrayectoria\u001b[0m\u001b[0;34m:\u001b[0m\u001b[0;34m\u001b[0m\u001b[0m\n\u001b[0;32m--> 433\u001b[0;31m         \u001b[0max\u001b[0m\u001b[0;34m.\u001b[0m\u001b[0mscatter\u001b[0m\u001b[0;34m(\u001b[0m\u001b[0;34m[\u001b[0m\u001b[0mp\u001b[0m\u001b[0;34m[\u001b[0m\u001b[0;36m0\u001b[0m\u001b[0;34m]\u001b[0m\u001b[0;34m]\u001b[0m\u001b[0;34m,\u001b[0m\u001b[0;34m[\u001b[0m\u001b[0mp\u001b[0m\u001b[0;34m[\u001b[0m\u001b[0;36m1\u001b[0m\u001b[0;34m]\u001b[0m\u001b[0;34m]\u001b[0m\u001b[0;34m,\u001b[0m\u001b[0;34m[\u001b[0m\u001b[0mp\u001b[0m\u001b[0;34m[\u001b[0m\u001b[0;36m2\u001b[0m\u001b[0;34m]\u001b[0m\u001b[0;34m]\u001b[0m\u001b[0;34m,\u001b[0m \u001b[0mcolor\u001b[0m\u001b[0;34m=\u001b[0m\u001b[0;34m\"k\"\u001b[0m\u001b[0;34m,\u001b[0m\u001b[0ms\u001b[0m\u001b[0;34m=\u001b[0m\u001b[0;36m20\u001b[0m\u001b[0;34m,\u001b[0m \u001b[0malpha\u001b[0m \u001b[0;34m=\u001b[0m \u001b[0;36m0.7\u001b[0m\u001b[0;34m)\u001b[0m\u001b[0;34m\u001b[0m\u001b[0m\n\u001b[0m\u001b[1;32m    434\u001b[0m \u001b[0;34m\u001b[0m\u001b[0m\n\u001b[1;32m    435\u001b[0m     \u001b[0;31m#Plot the x positive direction\u001b[0m\u001b[0;34m\u001b[0m\u001b[0;34m\u001b[0m\u001b[0m\n",
      "\u001b[0;32m/Users/ayano/anaconda/lib/python2.7/site-packages/mpl_toolkits/mplot3d/axes3d.pyc\u001b[0m in \u001b[0;36mscatter\u001b[0;34m(self, xs, ys, zs, zdir, s, c, depthshade, *args, **kwargs)\u001b[0m\n\u001b[1;32m   2261\u001b[0m                     \"and 'ys' or of size 1.\"))\n\u001b[1;32m   2262\u001b[0m \u001b[0;34m\u001b[0m\u001b[0m\n\u001b[0;32m-> 2263\u001b[0;31m         \u001b[0ms\u001b[0m \u001b[0;34m=\u001b[0m \u001b[0mnp\u001b[0m\u001b[0;34m.\u001b[0m\u001b[0mma\u001b[0m\u001b[0;34m.\u001b[0m\u001b[0mravel\u001b[0m\u001b[0;34m(\u001b[0m\u001b[0ms\u001b[0m\u001b[0;34m)\u001b[0m  \u001b[0;31m# This doesn't have to match x, y in size.\u001b[0m\u001b[0;34m\u001b[0m\u001b[0m\n\u001b[0m\u001b[1;32m   2264\u001b[0m \u001b[0;34m\u001b[0m\u001b[0m\n\u001b[1;32m   2265\u001b[0m         \u001b[0mcstr\u001b[0m \u001b[0;34m=\u001b[0m \u001b[0mcbook\u001b[0m\u001b[0;34m.\u001b[0m\u001b[0mis_string_like\u001b[0m\u001b[0;34m(\u001b[0m\u001b[0mc\u001b[0m\u001b[0;34m)\u001b[0m \u001b[0;32mor\u001b[0m \u001b[0mcbook\u001b[0m\u001b[0;34m.\u001b[0m\u001b[0mis_sequence_of_strings\u001b[0m\u001b[0;34m(\u001b[0m\u001b[0mc\u001b[0m\u001b[0;34m)\u001b[0m\u001b[0;34m\u001b[0m\u001b[0m\n",
      "\u001b[0;32m/Users/ayano/anaconda/lib/python2.7/site-packages/numpy/ma/core.pyc\u001b[0m in \u001b[0;36m__call__\u001b[0;34m(self, a, *args, **params)\u001b[0m\n\u001b[1;32m   6289\u001b[0m         \u001b[0mmethod\u001b[0m \u001b[0;34m=\u001b[0m \u001b[0mgetattr\u001b[0m\u001b[0;34m(\u001b[0m\u001b[0mMaskedArray\u001b[0m\u001b[0;34m,\u001b[0m \u001b[0mmethod_name\u001b[0m\u001b[0;34m,\u001b[0m \u001b[0mNone\u001b[0m\u001b[0;34m)\u001b[0m\u001b[0;34m\u001b[0m\u001b[0m\n\u001b[1;32m   6290\u001b[0m         \u001b[0;32mif\u001b[0m \u001b[0mmethod\u001b[0m \u001b[0;32mis\u001b[0m \u001b[0;32mnot\u001b[0m \u001b[0mNone\u001b[0m\u001b[0;34m:\u001b[0m\u001b[0;34m\u001b[0m\u001b[0m\n\u001b[0;32m-> 6291\u001b[0;31m             \u001b[0;32mreturn\u001b[0m \u001b[0mmethod\u001b[0m\u001b[0;34m(\u001b[0m\u001b[0mMaskedArray\u001b[0m\u001b[0;34m(\u001b[0m\u001b[0ma\u001b[0m\u001b[0;34m)\u001b[0m\u001b[0;34m,\u001b[0m \u001b[0;34m*\u001b[0m\u001b[0margs\u001b[0m\u001b[0;34m,\u001b[0m \u001b[0;34m**\u001b[0m\u001b[0mparams\u001b[0m\u001b[0;34m)\u001b[0m\u001b[0;34m\u001b[0m\u001b[0m\n\u001b[0m\u001b[1;32m   6292\u001b[0m         \u001b[0;31m# Still here ? OK, let's call the corresponding np function\u001b[0m\u001b[0;34m\u001b[0m\u001b[0;34m\u001b[0m\u001b[0m\n\u001b[1;32m   6293\u001b[0m         \u001b[0mmethod\u001b[0m \u001b[0;34m=\u001b[0m \u001b[0mgetattr\u001b[0m\u001b[0;34m(\u001b[0m\u001b[0mnp\u001b[0m\u001b[0;34m,\u001b[0m \u001b[0mmethod_name\u001b[0m\u001b[0;34m)\u001b[0m\u001b[0;34m\u001b[0m\u001b[0m\n",
      "\u001b[0;32m/Users/ayano/anaconda/lib/python2.7/site-packages/numpy/ma/core.pyc\u001b[0m in \u001b[0;36mravel\u001b[0;34m(self, order)\u001b[0m\n\u001b[1;32m   4274\u001b[0m \u001b[0;34m\u001b[0m\u001b[0m\n\u001b[1;32m   4275\u001b[0m         \"\"\"\n\u001b[0;32m-> 4276\u001b[0;31m         \u001b[0mr\u001b[0m \u001b[0;34m=\u001b[0m \u001b[0mndarray\u001b[0m\u001b[0;34m.\u001b[0m\u001b[0mravel\u001b[0m\u001b[0;34m(\u001b[0m\u001b[0mself\u001b[0m\u001b[0;34m.\u001b[0m\u001b[0m_data\u001b[0m\u001b[0;34m,\u001b[0m \u001b[0morder\u001b[0m\u001b[0;34m=\u001b[0m\u001b[0morder\u001b[0m\u001b[0;34m)\u001b[0m\u001b[0;34m.\u001b[0m\u001b[0mview\u001b[0m\u001b[0;34m(\u001b[0m\u001b[0mtype\u001b[0m\u001b[0;34m(\u001b[0m\u001b[0mself\u001b[0m\u001b[0;34m)\u001b[0m\u001b[0;34m)\u001b[0m\u001b[0;34m\u001b[0m\u001b[0m\n\u001b[0m\u001b[1;32m   4277\u001b[0m         \u001b[0mr\u001b[0m\u001b[0;34m.\u001b[0m\u001b[0m_update_from\u001b[0m\u001b[0;34m(\u001b[0m\u001b[0mself\u001b[0m\u001b[0;34m)\u001b[0m\u001b[0;34m\u001b[0m\u001b[0m\n\u001b[1;32m   4278\u001b[0m         \u001b[0;32mif\u001b[0m \u001b[0mself\u001b[0m\u001b[0;34m.\u001b[0m\u001b[0m_mask\u001b[0m \u001b[0;32mis\u001b[0m \u001b[0;32mnot\u001b[0m \u001b[0mnomask\u001b[0m\u001b[0;34m:\u001b[0m\u001b[0;34m\u001b[0m\u001b[0m\n",
      "\u001b[0;32m/Users/ayano/anaconda/lib/python2.7/site-packages/numpy/ma/core.pyc\u001b[0m in \u001b[0;36m__array_finalize__\u001b[0;34m(self, obj)\u001b[0m\n\u001b[1;32m   2869\u001b[0m         \"\"\"\n\u001b[1;32m   2870\u001b[0m         \u001b[0;31m# Get main attributes.\u001b[0m\u001b[0;34m\u001b[0m\u001b[0;34m\u001b[0m\u001b[0m\n\u001b[0;32m-> 2871\u001b[0;31m         \u001b[0mself\u001b[0m\u001b[0;34m.\u001b[0m\u001b[0m_update_from\u001b[0m\u001b[0;34m(\u001b[0m\u001b[0mobj\u001b[0m\u001b[0;34m)\u001b[0m\u001b[0;34m\u001b[0m\u001b[0m\n\u001b[0m\u001b[1;32m   2872\u001b[0m \u001b[0;34m\u001b[0m\u001b[0m\n\u001b[1;32m   2873\u001b[0m         \u001b[0;31m# We have to decide how to initialize self.mask, based on\u001b[0m\u001b[0;34m\u001b[0m\u001b[0;34m\u001b[0m\u001b[0m\n",
      "\u001b[0;32m/Users/ayano/anaconda/lib/python2.7/site-packages/numpy/ma/core.pyc\u001b[0m in \u001b[0;36m_update_from\u001b[0;34m(self, obj)\u001b[0m\n\u001b[1;32m   2852\u001b[0m         \u001b[0;32mif\u001b[0m \u001b[0;32mnot\u001b[0m \u001b[0misinstance\u001b[0m\u001b[0;34m(\u001b[0m\u001b[0mobj\u001b[0m\u001b[0;34m,\u001b[0m \u001b[0mMaskedArray\u001b[0m\u001b[0;34m)\u001b[0m\u001b[0;34m:\u001b[0m\u001b[0;34m\u001b[0m\u001b[0m\n\u001b[1;32m   2853\u001b[0m             \u001b[0m_optinfo\u001b[0m\u001b[0;34m.\u001b[0m\u001b[0mupdate\u001b[0m\u001b[0;34m(\u001b[0m\u001b[0mgetattr\u001b[0m\u001b[0;34m(\u001b[0m\u001b[0mobj\u001b[0m\u001b[0;34m,\u001b[0m \u001b[0;34m'__dict__'\u001b[0m\u001b[0;34m,\u001b[0m \u001b[0;34m{\u001b[0m\u001b[0;34m}\u001b[0m\u001b[0;34m)\u001b[0m\u001b[0;34m)\u001b[0m\u001b[0;34m\u001b[0m\u001b[0m\n\u001b[0;32m-> 2854\u001b[0;31m         _dict = dict(_fill_value=getattr(obj, '_fill_value', None),\n\u001b[0m\u001b[1;32m   2855\u001b[0m                      \u001b[0m_hardmask\u001b[0m\u001b[0;34m=\u001b[0m\u001b[0mgetattr\u001b[0m\u001b[0;34m(\u001b[0m\u001b[0mobj\u001b[0m\u001b[0;34m,\u001b[0m \u001b[0;34m'_hardmask'\u001b[0m\u001b[0;34m,\u001b[0m \u001b[0mFalse\u001b[0m\u001b[0;34m)\u001b[0m\u001b[0;34m,\u001b[0m\u001b[0;34m\u001b[0m\u001b[0m\n\u001b[1;32m   2856\u001b[0m                      \u001b[0m_sharedmask\u001b[0m\u001b[0;34m=\u001b[0m\u001b[0mgetattr\u001b[0m\u001b[0;34m(\u001b[0m\u001b[0mobj\u001b[0m\u001b[0;34m,\u001b[0m \u001b[0;34m'_sharedmask'\u001b[0m\u001b[0;34m,\u001b[0m \u001b[0mFalse\u001b[0m\u001b[0;34m)\u001b[0m\u001b[0;34m,\u001b[0m\u001b[0;34m\u001b[0m\u001b[0m\n",
      "\u001b[0;31mKeyboardInterrupt\u001b[0m: "
     ]
    },
    {
     "data": {
      "image/png": "[encoded data removed]",
      "text/plain": [
       "<matplotlib.figure.Figure at 0x15c287790>"
      ]
     },
     "metadata": {},
     "output_type": "display_data"
    }
   ],
   "source": [
    "v1,v2,v3,v4,v5,v6,v7,v8 = simulacion_obs(mis_rs_obs, estructura_obs,0.5, pos_ini, 500,30, 2, 1e-3)"
   ]
  },
  {
   "cell_type": "code",
   "execution_count": null,
   "metadata": {
    "collapsed": true
   },
   "outputs": [],
   "source": []
  },
  {
   "cell_type": "code",
   "execution_count": null,
   "metadata": {
    "collapsed": true
   },
   "outputs": [],
   "source": []
  },
  {
   "cell_type": "code",
   "execution_count": null,
   "metadata": {
    "collapsed": true
   },
   "outputs": [],
   "source": []
  },
  {
   "cell_type": "code",
   "execution_count": null,
   "metadata": {
    "collapsed": true
   },
   "outputs": [],
   "source": []
  },
  {
   "cell_type": "code",
   "execution_count": null,
   "metadata": {
    "collapsed": true
   },
   "outputs": [],
   "source": []
  },
  {
   "cell_type": "code",
   "execution_count": null,
   "metadata": {
    "collapsed": true
   },
   "outputs": [],
   "source": []
  },
  {
   "cell_type": "code",
   "execution_count": 20,
   "metadata": {
    "collapsed": true
   },
   "outputs": [],
   "source": [
    "v = 1./np.sqrt(3)\n",
    "size_std = np.pi/9\n",
    "list_obs_estandar = [np.array([v,v,v]),np.array([-v,v,v]),np.array([v,-v,v]),np.array([-v,-v,v]),np.array([v,v,-v]),np.array([-v,v,-v]),np.array([v,-v,-v]),np.array([-v,-v,-v])]"
   ]
  },
  {
   "cell_type": "code",
   "execution_count": 21,
   "metadata": {
    "collapsed": false
   },
   "outputs": [
    {
     "data": {
      "image/png": "[encoded data removed]",
      "text/plain": [
       "<matplotlib.figure.Figure at 0x15f56df10>"
      ]
     },
     "metadata": {},
     "output_type": "display_data"
    }
   ],
   "source": [
    "estruc_std = puntos_obs(list_obs_estandar, np.pi/9)\n",
    "plot_particles(estruc_std,0,0,0)"
   ]
  },
  {
   "cell_type": "code",
   "execution_count": 23,
   "metadata": {
    "collapsed": false
   },
   "outputs": [
    {
     "name": "stdout",
     "output_type": "stream",
     "text": [
      "/Users/ayano/Documents/Simulaciones/Foreign_Notebooks/OBSSIM03\r\n"
     ]
    }
   ],
   "source": [
    "!pwd"
   ]
  },
  {
   "cell_type": "code",
   "execution_count": null,
   "metadata": {
    "collapsed": true
   },
   "outputs": [],
   "source": []
  },
  {
   "cell_type": "code",
   "execution_count": null,
   "metadata": {
    "collapsed": true
   },
   "outputs": [],
   "source": []
  },
  {
   "cell_type": "code",
   "execution_count": null,
   "metadata": {
    "collapsed": true
   },
   "outputs": [],
   "source": []
  },
  {
   "cell_type": "code",
   "execution_count": null,
   "metadata": {
    "collapsed": true
   },
   "outputs": [],
   "source": [
    "w1,w2,w3,w4,w5,w6,w7,w8 = simulacion_obs(list_obs_estandar, estruc_std,np.pi/9, pos_ini, 600,30, 1, 1e-3)"
   ]
  },
  {
   "cell_type": "code",
   "execution_count": null,
   "metadata": {
    "collapsed": true
   },
   "outputs": [],
   "source": []
  },
  {
   "cell_type": "code",
   "execution_count": null,
   "metadata": {
    "collapsed": true
   },
   "outputs": [],
   "source": []
  },
  {
   "cell_type": "code",
   "execution_count": null,
   "metadata": {
    "collapsed": true
   },
   "outputs": [],
   "source": []
  },
  {
   "cell_type": "code",
   "execution_count": null,
   "metadata": {
    "collapsed": true
   },
   "outputs": [],
   "source": []
  },
  {
   "cell_type": "code",
   "execution_count": null,
   "metadata": {
    "collapsed": true
   },
   "outputs": [],
   "source": []
  },
  {
   "cell_type": "code",
   "execution_count": null,
   "metadata": {
    "collapsed": true
   },
   "outputs": [],
   "source": []
  },
  {
   "cell_type": "code",
   "execution_count": null,
   "metadata": {
    "collapsed": true
   },
   "outputs": [],
   "source": []
  },
  {
   "cell_type": "code",
   "execution_count": null,
   "metadata": {
    "collapsed": true
   },
   "outputs": [],
   "source": []
  },
  {
   "cell_type": "code",
   "execution_count": null,
   "metadata": {
    "collapsed": true
   },
   "outputs": [],
   "source": []
  },
  {
   "cell_type": "code",
   "execution_count": 86,
   "metadata": {
    "collapsed": false
   },
   "outputs": [
    {
     "name": "stdout",
     "output_type": "stream",
     "text": [
      "/Users/ayano/Documents/Simulaciones/Foreign_Notebooks\r\n"
     ]
    }
   ],
   "source": [
    "!pwd"
   ]
  },
  {
   "cell_type": "code",
   "execution_count": 87,
   "metadata": {
    "collapsed": true
   },
   "outputs": [],
   "source": [
    "!mkdir Mean_Theta_Arccos_01"
   ]
  },
  {
   "cell_type": "code",
   "execution_count": 88,
   "metadata": {
    "collapsed": false
   },
   "outputs": [
    {
     "name": "stdout",
     "output_type": "stream",
     "text": [
      "/Users/ayano/Documents/Simulaciones/Foreign_Notebooks/Mean_Theta_Arccos_01\n"
     ]
    }
   ],
   "source": [
    "%cd Mean_Theta_Arccos_01/"
   ]
  },
  {
   "cell_type": "code",
   "execution_count": null,
   "metadata": {
    "collapsed": true
   },
   "outputs": [],
   "source": []
  },
  {
   "cell_type": "code",
   "execution_count": 95,
   "metadata": {
    "collapsed": true
   },
   "outputs": [
    {
     "ename": "ValueError",
     "evalue": "setting an array element with a sequence.",
     "output_type": "error",
     "traceback": [
      "\u001b[0;31m---------------------------------------------------------------------------\u001b[0m",
      "\u001b[0;31mValueError\u001b[0m                                Traceback (most recent call last)",
      "\u001b[0;32m<ipython-input-95-27b80808a2c4>\u001b[0m in \u001b[0;36m<module>\u001b[0;34m()\u001b[0m\n\u001b[0;32m----> 1\u001b[0;31m \u001b[0mxw\u001b[0m \u001b[0;34m=\u001b[0m \u001b[0mnp\u001b[0m\u001b[0;34m.\u001b[0m\u001b[0marray\u001b[0m\u001b[0;34m(\u001b[0m\u001b[0mv1\u001b[0m\u001b[0;34m)\u001b[0m\u001b[0;34m\u001b[0m\u001b[0m\n\u001b[0m",
      "\u001b[0;31mValueError\u001b[0m: setting an array element with a sequence."
     ]
    }
   ],
   "source": [
    "xw = np.array(v1)"
   ]
  },
  {
   "cell_type": "code",
   "execution_count": null,
   "metadata": {
    "collapsed": true
   },
   "outputs": [],
   "source": []
  },
  {
   "cell_type": "code",
   "execution_count": 89,
   "metadata": {
    "collapsed": true
   },
   "outputs": [
    {
     "ename": "ValueError",
     "evalue": "setting an array element with a sequence.",
     "output_type": "error",
     "traceback": [
      "\u001b[0;31m---------------------------------------------------------------------------\u001b[0m",
      "\u001b[0;31mValueError\u001b[0m                                Traceback (most recent call last)",
      "\u001b[0;32m<ipython-input-89-de9f18a74d7e>\u001b[0m in \u001b[0;36m<module>\u001b[0;34m()\u001b[0m\n\u001b[0;32m----> 1\u001b[0;31m \u001b[0mnp\u001b[0m\u001b[0;34m.\u001b[0m\u001b[0msavetxt\u001b[0m\u001b[0;34m(\u001b[0m\u001b[0;34m\"theta.txt\"\u001b[0m\u001b[0;34m,\u001b[0m\u001b[0mv1\u001b[0m\u001b[0;34m)\u001b[0m\u001b[0;34m\u001b[0m\u001b[0m\n\u001b[0m",
      "\u001b[0;32m/Users/ayano/anaconda/lib/python2.7/site-packages/numpy/lib/npyio.pyc\u001b[0m in \u001b[0;36msavetxt\u001b[0;34m(fname, X, fmt, delimiter, newline, header, footer, comments)\u001b[0m\n\u001b[1;32m   1101\u001b[0m \u001b[0;34m\u001b[0m\u001b[0m\n\u001b[1;32m   1102\u001b[0m     \u001b[0;32mtry\u001b[0m\u001b[0;34m:\u001b[0m\u001b[0;34m\u001b[0m\u001b[0m\n\u001b[0;32m-> 1103\u001b[0;31m         \u001b[0mX\u001b[0m \u001b[0;34m=\u001b[0m \u001b[0mnp\u001b[0m\u001b[0;34m.\u001b[0m\u001b[0masarray\u001b[0m\u001b[0;34m(\u001b[0m\u001b[0mX\u001b[0m\u001b[0;34m)\u001b[0m\u001b[0;34m\u001b[0m\u001b[0m\n\u001b[0m\u001b[1;32m   1104\u001b[0m \u001b[0;34m\u001b[0m\u001b[0m\n\u001b[1;32m   1105\u001b[0m         \u001b[0;31m# Handle 1-dimensional arrays\u001b[0m\u001b[0;34m\u001b[0m\u001b[0;34m\u001b[0m\u001b[0m\n",
      "\u001b[0;32m/Users/ayano/anaconda/lib/python2.7/site-packages/numpy/core/numeric.pyc\u001b[0m in \u001b[0;36masarray\u001b[0;34m(a, dtype, order)\u001b[0m\n\u001b[1;32m    472\u001b[0m \u001b[0;34m\u001b[0m\u001b[0m\n\u001b[1;32m    473\u001b[0m     \"\"\"\n\u001b[0;32m--> 474\u001b[0;31m     \u001b[0;32mreturn\u001b[0m \u001b[0marray\u001b[0m\u001b[0;34m(\u001b[0m\u001b[0ma\u001b[0m\u001b[0;34m,\u001b[0m \u001b[0mdtype\u001b[0m\u001b[0;34m,\u001b[0m \u001b[0mcopy\u001b[0m\u001b[0;34m=\u001b[0m\u001b[0mFalse\u001b[0m\u001b[0;34m,\u001b[0m \u001b[0morder\u001b[0m\u001b[0;34m=\u001b[0m\u001b[0morder\u001b[0m\u001b[0;34m)\u001b[0m\u001b[0;34m\u001b[0m\u001b[0m\n\u001b[0m\u001b[1;32m    475\u001b[0m \u001b[0;34m\u001b[0m\u001b[0m\n\u001b[1;32m    476\u001b[0m \u001b[0;32mdef\u001b[0m \u001b[0masanyarray\u001b[0m\u001b[0;34m(\u001b[0m\u001b[0ma\u001b[0m\u001b[0;34m,\u001b[0m \u001b[0mdtype\u001b[0m\u001b[0;34m=\u001b[0m\u001b[0mNone\u001b[0m\u001b[0;34m,\u001b[0m \u001b[0morder\u001b[0m\u001b[0;34m=\u001b[0m\u001b[0mNone\u001b[0m\u001b[0;34m)\u001b[0m\u001b[0;34m:\u001b[0m\u001b[0;34m\u001b[0m\u001b[0m\n",
      "\u001b[0;31mValueError\u001b[0m: setting an array element with a sequence."
     ]
    }
   ],
   "source": []
  },
  {
   "cell_type": "code",
   "execution_count": 83,
   "metadata": {
    "collapsed": true
   },
   "outputs": [
    {
     "ename": "NameError",
     "evalue": "name 'z1' is not defined",
     "output_type": "error",
     "traceback": [
      "\u001b[0;31m---------------------------------------------------------------------------\u001b[0m",
      "\u001b[0;31mNameError\u001b[0m                                 Traceback (most recent call last)",
      "\u001b[0;32m<ipython-input-83-cb3dabbe2852>\u001b[0m in \u001b[0;36m<module>\u001b[0;34m()\u001b[0m\n\u001b[0;32m----> 1\u001b[0;31m \u001b[0mtype\u001b[0m\u001b[0;34m(\u001b[0m\u001b[0mz1\u001b[0m\u001b[0;34m)\u001b[0m\u001b[0;34m\u001b[0m\u001b[0m\n\u001b[0m",
      "\u001b[0;31mNameError\u001b[0m: name 'z1' is not defined"
     ]
    }
   ],
   "source": []
  },
  {
   "cell_type": "code",
   "execution_count": null,
   "metadata": {
    "collapsed": true
   },
   "outputs": [],
   "source": []
  },
  {
   "cell_type": "code",
   "execution_count": null,
   "metadata": {
    "collapsed": true
   },
   "outputs": [],
   "source": []
  },
  {
   "cell_type": "code",
   "execution_count": 163,
   "metadata": {
    "collapsed": false
   },
   "outputs": [
    {
     "data": {
      "text/plain": [
       "[<matplotlib.lines.Line2D at 0x10f6cb6d0>]"
      ]
     },
     "execution_count": 163,
     "metadata": {},
     "output_type": "execute_result"
    },
    {
     "data": {
      "image/png": "[encoded data removed]",
      "text/plain": [
       "<matplotlib.figure.Figure at 0x10c95e350>"
      ]
     },
     "metadata": {},
     "output_type": "display_data"
    }
   ],
   "source": [
    "plt.plot(v8)"
   ]
  },
  {
   "cell_type": "code",
   "execution_count": 164,
   "metadata": {
    "collapsed": false
   },
   "outputs": [],
   "source": [
    "x8 = np.array(v8)"
   ]
  },
  {
   "cell_type": "code",
   "execution_count": 165,
   "metadata": {
    "collapsed": false
   },
   "outputs": [
    {
     "data": {
      "text/plain": [
       "[<matplotlib.lines.Line2D at 0x10dd6a2d0>]"
      ]
     },
     "execution_count": 165,
     "metadata": {},
     "output_type": "execute_result"
    },
    {
     "data": {
      "image/png": "[encoded data removed]",
      "text/plain": [
       "<matplotlib.figure.Figure at 0x10dc2f990>"
      ]
     },
     "metadata": {},
     "output_type": "display_data"
    }
   ],
   "source": [
    "plt.plot(x8**2)"
   ]
  },
  {
   "cell_type": "code",
   "execution_count": 166,
   "metadata": {
    "collapsed": false
   },
   "outputs": [
    {
     "data": {
      "text/plain": [
       "[<matplotlib.lines.Line2D at 0x1106ffd90>]"
      ]
     },
     "execution_count": 166,
     "metadata": {},
     "output_type": "execute_result"
    },
    {
     "data": {
      "image/png": "[encoded data removed]",
      "text/plain": [
       "<matplotlib.figure.Figure at 0x10e7b9790>"
      ]
     },
     "metadata": {},
     "output_type": "display_data"
    }
   ],
   "source": [
    "plt.plot(v3)"
   ]
  },
  {
   "cell_type": "code",
   "execution_count": 167,
   "metadata": {
    "collapsed": false
   },
   "outputs": [
    {
     "data": {
      "text/plain": [
       "[<matplotlib.lines.Line2D at 0x10da9bd50>]"
      ]
     },
     "execution_count": 167,
     "metadata": {},
     "output_type": "execute_result"
    },
    {
     "data": {
      "image/png": "[encoded data removed]",
      "text/plain": [
       "<matplotlib.figure.Figure at 0x10cc0d710>"
      ]
     },
     "metadata": {},
     "output_type": "display_data"
    }
   ],
   "source": [
    "plt.plot(v5)"
   ]
  },
  {
   "cell_type": "code",
   "execution_count": 168,
   "metadata": {
    "collapsed": false
   },
   "outputs": [],
   "source": [
    "t_final = 3000\n",
    "dt = 1e-3"
   ]
  },
  {
   "cell_type": "code",
   "execution_count": 169,
   "metadata": {
    "collapsed": false
   },
   "outputs": [],
   "source": [
    "npasos = t_final\n",
    "suma = 0\n",
    "tiempos = [0]\n",
    "impulso = dt\n",
    "for i in range(npasos):\n",
    "    suma += impulso\n",
    "    tiempos.append(suma)"
   ]
  },
  {
   "cell_type": "code",
   "execution_count": null,
   "metadata": {
    "collapsed": true
   },
   "outputs": [],
   "source": []
  },
  {
   "cell_type": "code",
   "execution_count": null,
   "metadata": {
    "collapsed": true
   },
   "outputs": [],
   "source": []
  },
  {
   "cell_type": "code",
   "execution_count": 175,
   "metadata": {
    "collapsed": false
   },
   "outputs": [
    {
     "name": "stdout",
     "output_type": "stream",
     "text": [
      "-4.26603835843 0.58891966769\n"
     ]
    }
   ],
   "source": [
    "A = np.vstack((tiempos, np.ones(len(tiempos)))).T\n",
    "m, c = np.linalg.lstsq(A, np.log(np.array(v8)**2))[0]\n",
    "print m, c"
   ]
  },
  {
   "cell_type": "code",
   "execution_count": 176,
   "metadata": {
    "collapsed": true
   },
   "outputs": [],
   "source": [
    "Def = -m/4"
   ]
  },
  {
   "cell_type": "code",
   "execution_count": 177,
   "metadata": {
    "collapsed": false
   },
   "outputs": [
    {
     "data": {
      "text/plain": [
       "1.0665095896076646"
      ]
     },
     "execution_count": 177,
     "metadata": {},
     "output_type": "execute_result"
    }
   ],
   "source": [
    "Def"
   ]
  },
  {
   "cell_type": "code",
   "execution_count": 173,
   "metadata": {
    "collapsed": false,
    "scrolled": true
   },
   "outputs": [
    {
     "data": {
      "image/png": "[encoded data removed]",
      "text/plain": [
       "<matplotlib.figure.Figure at 0x10cd806d0>"
      ]
     },
     "metadata": {},
     "output_type": "display_data"
    }
   ],
   "source": [
    "t = np.array(tiempos)\n",
    "plt.rc('text', usetex=True)\n",
    "plt.plot(t, v3 , label = r\"simulaci\\'on\")\n",
    "plt.plot(t,np.arccos(np.exp(-2*Def*t)), label = r\"$\\arccos{\\left \\{\\exp{-[\\frac{2D_{ef}}{R^2}t]}\\right \\}}$\", alpha = 0.7)\n",
    "plt.plot(t,np.pi/2*np.ones(len(t)), label = r\"$\\frac{\\pi}{2}$\")\n",
    "plt.ylabel(r\"$\\langle \\theta(t)\\rangle$\", fontsize = 15)\n",
    "plt.ylim(0,1.7)\n",
    "plt.xlabel(r\"t\",fontsize=15)\n",
    "plt.legend(loc=4, fontsize = 15)\n",
    "plt.title(\"N = 2000, $D_{ef} = 1.06$, $D_{0} = 1.0000$, $\\sigma= 0.0785$, $R=1$ \", fontsize = 13)\n",
    "plt.savefig(\"N2000_mean_Theta_t\", dpi=120)"
   ]
  },
  {
   "cell_type": "code",
   "execution_count": 139,
   "metadata": {
    "collapsed": false
   },
   "outputs": [
    {
     "data": {
      "image/png": "[encoded data removed]",
      "text/plain": [
       "<matplotlib.figure.Figure at 0x10dfedb90>"
      ]
     },
     "metadata": {},
     "output_type": "display_data"
    }
   ],
   "source": [
    "t = np.array(tiempos)\n",
    "plt.rc('text', usetex=True)\n",
    "plt.plot(t, v5 , label = r\"simulaci\\'on\")\n",
    "#plt.plot(t,np.arccos(np.exp(-2*Def*t)), label = r\"$\\arccos{(\\exp{-[\\frac{2D_{ef}}{R^2}t]})}$\", alpha = 0.7)\n",
    "plt.plot(t,(np.pi**2/4 - 2)*np.ones(len(t)), label = r\"$\\frac{\\pi^2}{4} - 2$\", color =\"r\")\n",
    "plt.ylabel(r\"$\\mbox{var}[\\theta(t)]$\", fontsize = 15)\n",
    "#plt.ylim(0,1.7)\n",
    "plt.xlabel(r\"t\",fontsize=15)\n",
    "plt.legend(loc=4, fontsize = 15)\n",
    "plt.title(\"N = 2000, $D_{ef} = 0.7689$, $D_{0} = 1.0000$, $\\sigma= 0.0785$, $R=1$ \", fontsize = 13)\n",
    "plt.savefig(\"N2000_var_Theta_t\", dpi=100)"
   ]
  },
  {
   "cell_type": "code",
   "execution_count": null,
   "metadata": {
    "collapsed": true
   },
   "outputs": [],
   "source": []
  },
  {
   "cell_type": "code",
   "execution_count": 146,
   "metadata": {
    "collapsed": false
   },
   "outputs": [
    {
     "data": {
      "image/png": "[encoded data removed]",
      "text/plain": [
       "<matplotlib.figure.Figure at 0x10fe1e990>"
      ]
     },
     "metadata": {},
     "output_type": "display_data"
    }
   ],
   "source": [
    "t = np.array(tiempos)\n",
    "plt.rc('text', usetex=True)\n",
    "plt.plot(t, v8 , label = r\"simulaci\\'on\")\n",
    "plt.plot(t, np.exp(-2*Def*t), label = r\"$(\\exp{-[\\frac{2D_{ef}}{R^2}t])}$\", alpha = 0.7)\n",
    "plt.plot(t,np.zeros(len(t)), color =\"r\")\n",
    "plt.ylabel(r\"$\\langle \\cos{\\theta(t)} \\rangle$\", fontsize = 15)\n",
    "#plt.ylim(0,1.7)\n",
    "plt.xlabel(r\"t\",fontsize=15)\n",
    "plt.legend(loc=1, fontsize = 15)\n",
    "plt.title(\"N = 2000, $D_{ef} = 0.7689$, $D_{0} = 1.0000$, $\\sigma= 0.0625$, $R=1$ \", fontsize = 13)\n",
    "plt.savefig(\"N2000_mean_cos_Theta_t\", dpi=100)"
   ]
  },
  {
   "cell_type": "code",
   "execution_count": null,
   "metadata": {
    "collapsed": true
   },
   "outputs": [],
   "source": []
  },
  {
   "cell_type": "code",
   "execution_count": null,
   "metadata": {
    "collapsed": true
   },
   "outputs": [],
   "source": []
  },
  {
   "cell_type": "code",
   "execution_count": null,
   "metadata": {
    "collapsed": true
   },
   "outputs": [],
   "source": []
  },
  {
   "cell_type": "code",
   "execution_count": 116,
   "metadata": {
    "collapsed": false
   },
   "outputs": [
    {
     "name": "stdout",
     "output_type": "stream",
     "text": [
      "N2000_mean_Theta_t.png theta.txt\r\n"
     ]
    }
   ],
   "source": [
    "!ls"
   ]
  },
  {
   "cell_type": "code",
   "execution_count": null,
   "metadata": {
    "collapsed": true
   },
   "outputs": [],
   "source": []
  },
  {
   "cell_type": "code",
   "execution_count": null,
   "metadata": {
    "collapsed": true
   },
   "outputs": [],
   "source": []
  },
  {
   "cell_type": "code",
   "execution_count": 174,
   "metadata": {
    "collapsed": false
   },
   "outputs": [
    {
     "data": {
      "text/plain": [
       "0.062486980251685864"
      ]
     },
     "execution_count": 174,
     "metadata": {},
     "output_type": "execute_result"
    }
   ],
   "source": [
    "100*2*np.pi*(1-np.cos(0.05))/(4*np.pi)"
   ]
  },
  {
   "cell_type": "code",
   "execution_count": null,
   "metadata": {
    "collapsed": true
   },
   "outputs": [],
   "source": []
  },
  {
   "cell_type": "code",
   "execution_count": 57,
   "metadata": {
    "collapsed": false
   },
   "outputs": [
    {
     "data": {
      "text/plain": [
       "6000"
      ]
     },
     "execution_count": 57,
     "metadata": {},
     "output_type": "execute_result"
    }
   ],
   "source": [
    "len(tiempos)"
   ]
  },
  {
   "cell_type": "code",
   "execution_count": 58,
   "metadata": {
    "collapsed": false
   },
   "outputs": [
    {
     "data": {
      "text/plain": [
       "6000"
      ]
     },
     "execution_count": 58,
     "metadata": {},
     "output_type": "execute_result"
    }
   ],
   "source": [
    "len(v4)"
   ]
  },
  {
   "cell_type": "code",
   "execution_count": 65,
   "metadata": {
    "collapsed": false
   },
   "outputs": [
    {
     "data": {
      "text/plain": [
       "list"
      ]
     },
     "execution_count": 65,
     "metadata": {},
     "output_type": "execute_result"
    }
   ],
   "source": [
    "type(tiempos)"
   ]
  },
  {
   "cell_type": "code",
   "execution_count": 37,
   "metadata": {
    "collapsed": true
   },
   "outputs": [],
   "source": [
    "t = np.array(tiempos)"
   ]
  },
  {
   "cell_type": "code",
   "execution_count": 68,
   "metadata": {
    "collapsed": false
   },
   "outputs": [
    {
     "data": {
      "text/plain": [
       "numpy.ndarray"
      ]
     },
     "execution_count": 68,
     "metadata": {},
     "output_type": "execute_result"
    }
   ],
   "source": [
    "type(t)"
   ]
  },
  {
   "cell_type": "code",
   "execution_count": 129,
   "metadata": {
    "collapsed": false
   },
   "outputs": [
    {
     "data": {
      "text/plain": [
       "[<matplotlib.lines.Line2D at 0x10aa0b5d0>]"
      ]
     },
     "execution_count": 129,
     "metadata": {},
     "output_type": "execute_result"
    },
    {
     "data": {
      "image/png": "[encoded data removed]",
      "text/plain": [
       "<matplotlib.figure.Figure at 0x10c4ec510>"
      ]
     },
     "metadata": {},
     "output_type": "display_data"
    }
   ],
   "source": [
    "plt.plot(t,np.exp(-2*D*t))"
   ]
  },
  {
   "cell_type": "code",
   "execution_count": null,
   "metadata": {
    "collapsed": true
   },
   "outputs": [],
   "source": []
  },
  {
   "cell_type": "code",
   "execution_count": null,
   "metadata": {
    "collapsed": true
   },
   "outputs": [],
   "source": []
  },
  {
   "cell_type": "code",
   "execution_count": null,
   "metadata": {
    "collapsed": true
   },
   "outputs": [],
   "source": []
  },
  {
   "cell_type": "markdown",
   "metadata": {},
   "source": [
    "### Más codigo"
   ]
  },
  {
   "cell_type": "code",
   "execution_count": 139,
   "metadata": {
    "collapsed": true
   },
   "outputs": [],
   "source": [
    "#Funcion que dada una lista de obstaculos, cuyas fronteras estan dadas por estructura_obs, una tamaño de obstaculo\n",
    "# obs_size, una lista de posiciones iniciales pos_ini, una N de pasos a iterar la evolucion, con una presicion\n",
    "# presicion en la particion de las geodesicas, un coeficiente de difusion libre D0, y un tamaño de paso dt: regres\n",
    "#el coeficiente de difusion efectivo.\n",
    "def sigma_D(mis_rs_obs, estructura_obs, obs_size, pos_ini, Npasos,presicion, D0, dt):\n",
    "    \n",
    "    v1,v2,v3,v4,v5,v6,v7,v8 = simulacion_obs(mis_rs_obs, estructura_obs,obs_size, pos_ini, Npasos,presicion, D0, dt)\n",
    "    npasos = t_final\n",
    "    suma = 0\n",
    "    tiempos = [0]\n",
    "    impulso = dt\n",
    "    for i in range(Npasos):\n",
    "        suma += impulso\n",
    "        tiempos.append(suma)\n",
    "    A = np.vstack((tiempos, np.ones(len(tiempos)))).T\n",
    "    m, c = np.linalg.lstsq(A, np.log(np.array(v8)**2))[0]\n",
    "    Defe = -m/4\n",
    "    return Defe"
   ]
  },
  {
   "cell_type": "code",
   "execution_count": null,
   "metadata": {
    "collapsed": true
   },
   "outputs": [],
   "source": []
  },
  {
   "cell_type": "code",
   "execution_count": 140,
   "metadata": {
    "collapsed": false
   },
   "outputs": [],
   "source": [
    "def D_varianza(m, Nsigma, obs_size):\n",
    "    Des = []\n",
    "    for i in range(m):\n",
    "        mis_rs_obs = obs_uniforme(Nsigma, 1, obs_size)\n",
    "        Des.append(sigma_D(mis_rs_obs, estructura_obs, obs_size, pos_ini, Npasos,presicion, D0, dt))\n",
    "        \n",
    "    mean_Des = np.mean(Des)\n",
    "    var_Des = np.var(Des)\n",
    "    return mean_Des, var_Des"
   ]
  },
  {
   "cell_type": "code",
   "execution_count": 160,
   "metadata": {
    "collapsed": true
   },
   "outputs": [],
   "source": [
    "Npasos=100\n",
    "presicion = 10\n",
    "D0=1\n",
    "dt=1e-3"
   ]
  },
  {
   "cell_type": "code",
   "execution_count": null,
   "metadata": {
    "collapsed": false
   },
   "outputs": [],
   "source": [
    "x, y = D_varianza(50,0,0.3)"
   ]
  },
  {
   "cell_type": "code",
   "execution_count": 165,
   "metadata": {
    "collapsed": false
   },
   "outputs": [
    {
     "data": {
      "text/plain": [
       "0.98820377278055493"
      ]
     },
     "execution_count": 165,
     "metadata": {},
     "output_type": "execute_result"
    }
   ],
   "source": [
    "x"
   ]
  },
  {
   "cell_type": "code",
   "execution_count": 166,
   "metadata": {
    "collapsed": false
   },
   "outputs": [
    {
     "data": {
      "text/plain": [
       "0.024480049066666835"
      ]
     },
     "execution_count": 166,
     "metadata": {},
     "output_type": "execute_result"
    }
   ],
   "source": [
    "y"
   ]
  },
  {
   "cell_type": "code",
   "execution_count": null,
   "metadata": {
    "collapsed": true
   },
   "outputs": [],
   "source": []
  }
 ],
 "metadata": {
  "kernelspec": {
   "display_name": "Python 2",
   "language": "python",
   "name": "python2"
  },
  "language_info": {
   "codemirror_mode": {
    "name": "ipython",
    "version": 2
   },
   "file_extension": ".py",
   "mimetype": "text/x-python",
   "name": "python",
   "nbconvert_exporter": "python",
   "pygments_lexer": "ipython2",
   "version": "2.7.11"
  }
 },
 "nbformat": 4,
 "nbformat_minor": 0
}
